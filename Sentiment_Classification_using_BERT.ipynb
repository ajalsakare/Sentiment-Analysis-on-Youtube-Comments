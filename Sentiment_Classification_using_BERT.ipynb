{
  "nbformat": 4,
  "nbformat_minor": 0,
  "metadata": {
    "colab": {
      "name": "Sentiment Classification using BERT.ipynb",
      "provenance": [],
      "collapsed_sections": []
    },
    "kernelspec": {
      "name": "python3",
      "display_name": "Python 3"
    },
    "language_info": {
      "name": "python"
    },
    "accelerator": "GPU",
    "gpuClass": "standard"
  },
  "cells": [
    {
      "cell_type": "code",
      "source": [
        "import tensorflow as tf\n",
        "print(tf.__version__)"
      ],
      "metadata": {
        "colab": {
          "base_uri": "https://localhost:8080/"
        },
        "id": "_ZHkeTYCDBqa",
        "outputId": "e225353d-c4e0-4999-a9c9-f6e6739e6b7b"
      },
      "execution_count": 27,
      "outputs": [
        {
          "output_type": "stream",
          "name": "stdout",
          "text": [
            "2.8.2\n"
          ]
        }
      ]
    },
    {
      "cell_type": "code",
      "source": [
        "!pip install tensorflow_text==2.8.2\n",
        "!pip install tensorflow_hub"
      ],
      "metadata": {
        "colab": {
          "base_uri": "https://localhost:8080/"
        },
        "id": "0WcYAYhyUEn4",
        "outputId": "9c22e856-b27f-4084-de70-d0b2bb1dd384"
      },
      "execution_count": 28,
      "outputs": [
        {
          "output_type": "stream",
          "name": "stdout",
          "text": [
            "Looking in indexes: https://pypi.org/simple, https://us-python.pkg.dev/colab-wheels/public/simple/\n",
            "Requirement already satisfied: tensorflow_text==2.8.2 in /usr/local/lib/python3.7/dist-packages (2.8.2)\n",
            "Requirement already satisfied: tensorflow-hub>=0.8.0 in /usr/local/lib/python3.7/dist-packages (from tensorflow_text==2.8.2) (0.12.0)\n",
            "Requirement already satisfied: tensorflow<2.9,>=2.8.0 in /usr/local/lib/python3.7/dist-packages (from tensorflow_text==2.8.2) (2.8.2+zzzcolab20220719082949)\n",
            "Requirement already satisfied: protobuf<3.20,>=3.9.2 in /usr/local/lib/python3.7/dist-packages (from tensorflow<2.9,>=2.8.0->tensorflow_text==2.8.2) (3.17.3)\n",
            "Requirement already satisfied: numpy>=1.20 in /usr/local/lib/python3.7/dist-packages (from tensorflow<2.9,>=2.8.0->tensorflow_text==2.8.2) (1.21.6)\n",
            "Requirement already satisfied: setuptools in /usr/local/lib/python3.7/dist-packages (from tensorflow<2.9,>=2.8.0->tensorflow_text==2.8.2) (57.4.0)\n",
            "Requirement already satisfied: flatbuffers>=1.12 in /usr/local/lib/python3.7/dist-packages (from tensorflow<2.9,>=2.8.0->tensorflow_text==2.8.2) (2.0)\n",
            "Requirement already satisfied: tensorflow-io-gcs-filesystem>=0.23.1 in /usr/local/lib/python3.7/dist-packages (from tensorflow<2.9,>=2.8.0->tensorflow_text==2.8.2) (0.26.0)\n",
            "Requirement already satisfied: google-pasta>=0.1.1 in /usr/local/lib/python3.7/dist-packages (from tensorflow<2.9,>=2.8.0->tensorflow_text==2.8.2) (0.2.0)\n",
            "Requirement already satisfied: h5py>=2.9.0 in /usr/local/lib/python3.7/dist-packages (from tensorflow<2.9,>=2.8.0->tensorflow_text==2.8.2) (3.1.0)\n",
            "Requirement already satisfied: six>=1.12.0 in /usr/local/lib/python3.7/dist-packages (from tensorflow<2.9,>=2.8.0->tensorflow_text==2.8.2) (1.15.0)\n",
            "Requirement already satisfied: gast>=0.2.1 in /usr/local/lib/python3.7/dist-packages (from tensorflow<2.9,>=2.8.0->tensorflow_text==2.8.2) (0.5.3)\n",
            "Requirement already satisfied: libclang>=9.0.1 in /usr/local/lib/python3.7/dist-packages (from tensorflow<2.9,>=2.8.0->tensorflow_text==2.8.2) (14.0.1)\n",
            "Requirement already satisfied: absl-py>=0.4.0 in /usr/local/lib/python3.7/dist-packages (from tensorflow<2.9,>=2.8.0->tensorflow_text==2.8.2) (1.2.0)\n",
            "Requirement already satisfied: opt-einsum>=2.3.2 in /usr/local/lib/python3.7/dist-packages (from tensorflow<2.9,>=2.8.0->tensorflow_text==2.8.2) (3.3.0)\n",
            "Requirement already satisfied: typing-extensions>=3.6.6 in /usr/local/lib/python3.7/dist-packages (from tensorflow<2.9,>=2.8.0->tensorflow_text==2.8.2) (4.1.1)\n",
            "Requirement already satisfied: keras-preprocessing>=1.1.1 in /usr/local/lib/python3.7/dist-packages (from tensorflow<2.9,>=2.8.0->tensorflow_text==2.8.2) (1.1.2)\n",
            "Requirement already satisfied: astunparse>=1.6.0 in /usr/local/lib/python3.7/dist-packages (from tensorflow<2.9,>=2.8.0->tensorflow_text==2.8.2) (1.6.3)\n",
            "Requirement already satisfied: wrapt>=1.11.0 in /usr/local/lib/python3.7/dist-packages (from tensorflow<2.9,>=2.8.0->tensorflow_text==2.8.2) (1.14.1)\n",
            "Requirement already satisfied: grpcio<2.0,>=1.24.3 in /usr/local/lib/python3.7/dist-packages (from tensorflow<2.9,>=2.8.0->tensorflow_text==2.8.2) (1.47.0)\n",
            "Requirement already satisfied: termcolor>=1.1.0 in /usr/local/lib/python3.7/dist-packages (from tensorflow<2.9,>=2.8.0->tensorflow_text==2.8.2) (1.1.0)\n",
            "Requirement already satisfied: tensorboard<2.9,>=2.8 in /usr/local/lib/python3.7/dist-packages (from tensorflow<2.9,>=2.8.0->tensorflow_text==2.8.2) (2.8.0)\n",
            "Requirement already satisfied: keras<2.9,>=2.8.0rc0 in /usr/local/lib/python3.7/dist-packages (from tensorflow<2.9,>=2.8.0->tensorflow_text==2.8.2) (2.8.0)\n",
            "Requirement already satisfied: tensorflow-estimator<2.9,>=2.8 in /usr/local/lib/python3.7/dist-packages (from tensorflow<2.9,>=2.8.0->tensorflow_text==2.8.2) (2.8.0)\n",
            "Requirement already satisfied: wheel<1.0,>=0.23.0 in /usr/local/lib/python3.7/dist-packages (from astunparse>=1.6.0->tensorflow<2.9,>=2.8.0->tensorflow_text==2.8.2) (0.37.1)\n",
            "Requirement already satisfied: cached-property in /usr/local/lib/python3.7/dist-packages (from h5py>=2.9.0->tensorflow<2.9,>=2.8.0->tensorflow_text==2.8.2) (1.5.2)\n",
            "Requirement already satisfied: tensorboard-plugin-wit>=1.6.0 in /usr/local/lib/python3.7/dist-packages (from tensorboard<2.9,>=2.8->tensorflow<2.9,>=2.8.0->tensorflow_text==2.8.2) (1.8.1)\n",
            "Requirement already satisfied: google-auth<3,>=1.6.3 in /usr/local/lib/python3.7/dist-packages (from tensorboard<2.9,>=2.8->tensorflow<2.9,>=2.8.0->tensorflow_text==2.8.2) (1.35.0)\n",
            "Requirement already satisfied: requests<3,>=2.21.0 in /usr/local/lib/python3.7/dist-packages (from tensorboard<2.9,>=2.8->tensorflow<2.9,>=2.8.0->tensorflow_text==2.8.2) (2.23.0)\n",
            "Requirement already satisfied: tensorboard-data-server<0.7.0,>=0.6.0 in /usr/local/lib/python3.7/dist-packages (from tensorboard<2.9,>=2.8->tensorflow<2.9,>=2.8.0->tensorflow_text==2.8.2) (0.6.1)\n",
            "Requirement already satisfied: markdown>=2.6.8 in /usr/local/lib/python3.7/dist-packages (from tensorboard<2.9,>=2.8->tensorflow<2.9,>=2.8.0->tensorflow_text==2.8.2) (3.4.1)\n",
            "Requirement already satisfied: google-auth-oauthlib<0.5,>=0.4.1 in /usr/local/lib/python3.7/dist-packages (from tensorboard<2.9,>=2.8->tensorflow<2.9,>=2.8.0->tensorflow_text==2.8.2) (0.4.6)\n",
            "Requirement already satisfied: werkzeug>=0.11.15 in /usr/local/lib/python3.7/dist-packages (from tensorboard<2.9,>=2.8->tensorflow<2.9,>=2.8.0->tensorflow_text==2.8.2) (1.0.1)\n",
            "Requirement already satisfied: rsa<5,>=3.1.4 in /usr/local/lib/python3.7/dist-packages (from google-auth<3,>=1.6.3->tensorboard<2.9,>=2.8->tensorflow<2.9,>=2.8.0->tensorflow_text==2.8.2) (4.9)\n",
            "Requirement already satisfied: cachetools<5.0,>=2.0.0 in /usr/local/lib/python3.7/dist-packages (from google-auth<3,>=1.6.3->tensorboard<2.9,>=2.8->tensorflow<2.9,>=2.8.0->tensorflow_text==2.8.2) (4.2.4)\n",
            "Requirement already satisfied: pyasn1-modules>=0.2.1 in /usr/local/lib/python3.7/dist-packages (from google-auth<3,>=1.6.3->tensorboard<2.9,>=2.8->tensorflow<2.9,>=2.8.0->tensorflow_text==2.8.2) (0.2.8)\n",
            "Requirement already satisfied: requests-oauthlib>=0.7.0 in /usr/local/lib/python3.7/dist-packages (from google-auth-oauthlib<0.5,>=0.4.1->tensorboard<2.9,>=2.8->tensorflow<2.9,>=2.8.0->tensorflow_text==2.8.2) (1.3.1)\n",
            "Requirement already satisfied: importlib-metadata>=4.4 in /usr/local/lib/python3.7/dist-packages (from markdown>=2.6.8->tensorboard<2.9,>=2.8->tensorflow<2.9,>=2.8.0->tensorflow_text==2.8.2) (4.12.0)\n",
            "Requirement already satisfied: zipp>=0.5 in /usr/local/lib/python3.7/dist-packages (from importlib-metadata>=4.4->markdown>=2.6.8->tensorboard<2.9,>=2.8->tensorflow<2.9,>=2.8.0->tensorflow_text==2.8.2) (3.8.1)\n",
            "Requirement already satisfied: pyasn1<0.5.0,>=0.4.6 in /usr/local/lib/python3.7/dist-packages (from pyasn1-modules>=0.2.1->google-auth<3,>=1.6.3->tensorboard<2.9,>=2.8->tensorflow<2.9,>=2.8.0->tensorflow_text==2.8.2) (0.4.8)\n",
            "Requirement already satisfied: idna<3,>=2.5 in /usr/local/lib/python3.7/dist-packages (from requests<3,>=2.21.0->tensorboard<2.9,>=2.8->tensorflow<2.9,>=2.8.0->tensorflow_text==2.8.2) (2.10)\n",
            "Requirement already satisfied: chardet<4,>=3.0.2 in /usr/local/lib/python3.7/dist-packages (from requests<3,>=2.21.0->tensorboard<2.9,>=2.8->tensorflow<2.9,>=2.8.0->tensorflow_text==2.8.2) (3.0.4)\n",
            "Requirement already satisfied: certifi>=2017.4.17 in /usr/local/lib/python3.7/dist-packages (from requests<3,>=2.21.0->tensorboard<2.9,>=2.8->tensorflow<2.9,>=2.8.0->tensorflow_text==2.8.2) (2022.6.15)\n",
            "Requirement already satisfied: urllib3!=1.25.0,!=1.25.1,<1.26,>=1.21.1 in /usr/local/lib/python3.7/dist-packages (from requests<3,>=2.21.0->tensorboard<2.9,>=2.8->tensorflow<2.9,>=2.8.0->tensorflow_text==2.8.2) (1.24.3)\n",
            "Requirement already satisfied: oauthlib>=3.0.0 in /usr/local/lib/python3.7/dist-packages (from requests-oauthlib>=0.7.0->google-auth-oauthlib<0.5,>=0.4.1->tensorboard<2.9,>=2.8->tensorflow<2.9,>=2.8.0->tensorflow_text==2.8.2) (3.2.0)\n",
            "Looking in indexes: https://pypi.org/simple, https://us-python.pkg.dev/colab-wheels/public/simple/\n",
            "Requirement already satisfied: tensorflow_hub in /usr/local/lib/python3.7/dist-packages (0.12.0)\n",
            "Requirement already satisfied: numpy>=1.12.0 in /usr/local/lib/python3.7/dist-packages (from tensorflow_hub) (1.21.6)\n",
            "Requirement already satisfied: protobuf>=3.8.0 in /usr/local/lib/python3.7/dist-packages (from tensorflow_hub) (3.17.3)\n",
            "Requirement already satisfied: six>=1.9 in /usr/local/lib/python3.7/dist-packages (from protobuf>=3.8.0->tensorflow_hub) (1.15.0)\n"
          ]
        }
      ]
    },
    {
      "cell_type": "code",
      "source": [
        "import tensorflow_text\n",
        "import tensorflow as tf\n",
        "import pandas as pd\n",
        "import numpy as np\n",
        "from tensorflow import keras\n",
        "import tensorflow_hub as hub"
      ],
      "metadata": {
        "id": "sWi4YaOx22H9"
      },
      "execution_count": 29,
      "outputs": []
    },
    {
      "cell_type": "code",
      "source": [
        "df = pd.read_csv('/content/Cleaned Comments MKBHD.csv', encoding='utf8')\n",
        "df.head()"
      ],
      "metadata": {
        "id": "S6lwSci3nYQL",
        "colab": {
          "base_uri": "https://localhost:8080/",
          "height": 826
        },
        "outputId": "3514091c-5c6e-4980-cdf4-b281c2a048ca"
      },
      "execution_count": 30,
      "outputs": [
        {
          "output_type": "execute_result",
          "data": {
            "text/plain": [
              "   Video Number                                              Title  \\\n",
              "0             1  Nothing Phone (1) Review: Seeing Through the H...   \n",
              "1             1  Nothing Phone (1) Review: Seeing Through the H...   \n",
              "2             1  Nothing Phone (1) Review: Seeing Through the H...   \n",
              "3             1  Nothing Phone (1) Review: Seeing Through the H...   \n",
              "4             1  Nothing Phone (1) Review: Seeing Through the H...   \n",
              "\n",
              "  Date Published    Views   Likes                Auther  \\\n",
              "0     2022-07-15  2771251  129382  Krishnendu Chowdhury   \n",
              "1     2022-07-15  2771251  129382           david davud   \n",
              "2     2022-07-15  2771251  129382          Mathew Blanc   \n",
              "3     2022-07-15  2771251  129382          Jacob Olness   \n",
              "4     2022-07-15  2771251  129382  Thanos The Mad Titan   \n",
              "\n",
              "                                             Comment  \\\n",
              "0  in a world where $1000 phones are now normal, ...   \n",
              "1  I feel that after this, the next logical step ...   \n",
              "2  I'm still on my Pixel 2, it was a surprise to ...   \n",
              "3  Like you said, I think it is smart they're for...   \n",
              "4  High refresh rate mid rangers and budget phone...   \n",
              "\n",
              "                                    Cleaned_Comments  \\\n",
              "0  world   phones normal   refreshing see mid tie...   \n",
              "1  feel  next logical step smart watch  rely much...   \n",
              "2  still pixel   surprise hear coloured notificat...   \n",
              "3  like said  think smart forging path products  ...   \n",
              "4  high refresh rate mid rangers budget phones fa...   \n",
              "\n",
              "                                           Tokenized  \\\n",
              "0  ['world', 'phones', 'normal', 'refreshing', 's...   \n",
              "1  ['feel', 'next', 'logical', 'step', 'smart', '...   \n",
              "2  ['still', 'pixel', 'surprise', 'hear', 'colour...   \n",
              "3  ['like', 'said', 'think', 'smart', 'forging', ...   \n",
              "4  ['high', 'refresh', 'rate', 'mid', 'rangers', ...   \n",
              "\n",
              "                                             POS_tag  \\\n",
              "0  [('world', 'n'), ('phones', 'n'), ('normal', '...   \n",
              "1  [('feel', 'v'), ('next', 'a'), ('logical', 'a'...   \n",
              "2  [('still', 'r'), ('pixel', 'a'), ('surprise', ...   \n",
              "3  [('like', None), ('said', 'v'), ('think', 'v')...   \n",
              "4  [('high', 'a'), ('refresh', 'n'), ('rate', 'n'...   \n",
              "\n",
              "                                          Lemmatized  Length  Positive count  \\\n",
              "0  ['world', 'phone', 'normal', 'refresh', 'see',...      19               3   \n",
              "1  ['feel', 'next', 'logical', 'step', 'smart', '...      14               3   \n",
              "2  ['still', 'pixel', 'surprise', 'hear', 'colour...      24               2   \n",
              "3  ['like', 'say', 'think', 'smart', 'forge', 'pa...      29               8   \n",
              "4  ['high', 'refresh', 'rate', 'mid', 'ranger', '...      15               4   \n",
              "\n",
              "   Negative count  Sentiment  \n",
              "0               1       0.11  \n",
              "1               0       0.21  \n",
              "2               1       0.04  \n",
              "3               1       0.24  \n",
              "4               0       0.27  "
            ],
            "text/html": [
              "\n",
              "  <div id=\"df-18bdee02-4cef-4f7f-8829-562a49c81037\">\n",
              "    <div class=\"colab-df-container\">\n",
              "      <div>\n",
              "<style scoped>\n",
              "    .dataframe tbody tr th:only-of-type {\n",
              "        vertical-align: middle;\n",
              "    }\n",
              "\n",
              "    .dataframe tbody tr th {\n",
              "        vertical-align: top;\n",
              "    }\n",
              "\n",
              "    .dataframe thead th {\n",
              "        text-align: right;\n",
              "    }\n",
              "</style>\n",
              "<table border=\"1\" class=\"dataframe\">\n",
              "  <thead>\n",
              "    <tr style=\"text-align: right;\">\n",
              "      <th></th>\n",
              "      <th>Video Number</th>\n",
              "      <th>Title</th>\n",
              "      <th>Date Published</th>\n",
              "      <th>Views</th>\n",
              "      <th>Likes</th>\n",
              "      <th>Auther</th>\n",
              "      <th>Comment</th>\n",
              "      <th>Cleaned_Comments</th>\n",
              "      <th>Tokenized</th>\n",
              "      <th>POS_tag</th>\n",
              "      <th>Lemmatized</th>\n",
              "      <th>Length</th>\n",
              "      <th>Positive count</th>\n",
              "      <th>Negative count</th>\n",
              "      <th>Sentiment</th>\n",
              "    </tr>\n",
              "  </thead>\n",
              "  <tbody>\n",
              "    <tr>\n",
              "      <th>0</th>\n",
              "      <td>1</td>\n",
              "      <td>Nothing Phone (1) Review: Seeing Through the H...</td>\n",
              "      <td>2022-07-15</td>\n",
              "      <td>2771251</td>\n",
              "      <td>129382</td>\n",
              "      <td>Krishnendu Chowdhury</td>\n",
              "      <td>in a world where $1000 phones are now normal, ...</td>\n",
              "      <td>world   phones normal   refreshing see mid tie...</td>\n",
              "      <td>['world', 'phones', 'normal', 'refreshing', 's...</td>\n",
              "      <td>[('world', 'n'), ('phones', 'n'), ('normal', '...</td>\n",
              "      <td>['world', 'phone', 'normal', 'refresh', 'see',...</td>\n",
              "      <td>19</td>\n",
              "      <td>3</td>\n",
              "      <td>1</td>\n",
              "      <td>0.11</td>\n",
              "    </tr>\n",
              "    <tr>\n",
              "      <th>1</th>\n",
              "      <td>1</td>\n",
              "      <td>Nothing Phone (1) Review: Seeing Through the H...</td>\n",
              "      <td>2022-07-15</td>\n",
              "      <td>2771251</td>\n",
              "      <td>129382</td>\n",
              "      <td>david davud</td>\n",
              "      <td>I feel that after this, the next logical step ...</td>\n",
              "      <td>feel  next logical step smart watch  rely much...</td>\n",
              "      <td>['feel', 'next', 'logical', 'step', 'smart', '...</td>\n",
              "      <td>[('feel', 'v'), ('next', 'a'), ('logical', 'a'...</td>\n",
              "      <td>['feel', 'next', 'logical', 'step', 'smart', '...</td>\n",
              "      <td>14</td>\n",
              "      <td>3</td>\n",
              "      <td>0</td>\n",
              "      <td>0.21</td>\n",
              "    </tr>\n",
              "    <tr>\n",
              "      <th>2</th>\n",
              "      <td>1</td>\n",
              "      <td>Nothing Phone (1) Review: Seeing Through the H...</td>\n",
              "      <td>2022-07-15</td>\n",
              "      <td>2771251</td>\n",
              "      <td>129382</td>\n",
              "      <td>Mathew Blanc</td>\n",
              "      <td>I'm still on my Pixel 2, it was a surprise to ...</td>\n",
              "      <td>still pixel   surprise hear coloured notificat...</td>\n",
              "      <td>['still', 'pixel', 'surprise', 'hear', 'colour...</td>\n",
              "      <td>[('still', 'r'), ('pixel', 'a'), ('surprise', ...</td>\n",
              "      <td>['still', 'pixel', 'surprise', 'hear', 'colour...</td>\n",
              "      <td>24</td>\n",
              "      <td>2</td>\n",
              "      <td>1</td>\n",
              "      <td>0.04</td>\n",
              "    </tr>\n",
              "    <tr>\n",
              "      <th>3</th>\n",
              "      <td>1</td>\n",
              "      <td>Nothing Phone (1) Review: Seeing Through the H...</td>\n",
              "      <td>2022-07-15</td>\n",
              "      <td>2771251</td>\n",
              "      <td>129382</td>\n",
              "      <td>Jacob Olness</td>\n",
              "      <td>Like you said, I think it is smart they're for...</td>\n",
              "      <td>like said  think smart forging path products  ...</td>\n",
              "      <td>['like', 'said', 'think', 'smart', 'forging', ...</td>\n",
              "      <td>[('like', None), ('said', 'v'), ('think', 'v')...</td>\n",
              "      <td>['like', 'say', 'think', 'smart', 'forge', 'pa...</td>\n",
              "      <td>29</td>\n",
              "      <td>8</td>\n",
              "      <td>1</td>\n",
              "      <td>0.24</td>\n",
              "    </tr>\n",
              "    <tr>\n",
              "      <th>4</th>\n",
              "      <td>1</td>\n",
              "      <td>Nothing Phone (1) Review: Seeing Through the H...</td>\n",
              "      <td>2022-07-15</td>\n",
              "      <td>2771251</td>\n",
              "      <td>129382</td>\n",
              "      <td>Thanos The Mad Titan</td>\n",
              "      <td>High refresh rate mid rangers and budget phone...</td>\n",
              "      <td>high refresh rate mid rangers budget phones fa...</td>\n",
              "      <td>['high', 'refresh', 'rate', 'mid', 'rangers', ...</td>\n",
              "      <td>[('high', 'a'), ('refresh', 'n'), ('rate', 'n'...</td>\n",
              "      <td>['high', 'refresh', 'rate', 'mid', 'ranger', '...</td>\n",
              "      <td>15</td>\n",
              "      <td>4</td>\n",
              "      <td>0</td>\n",
              "      <td>0.27</td>\n",
              "    </tr>\n",
              "  </tbody>\n",
              "</table>\n",
              "</div>\n",
              "      <button class=\"colab-df-convert\" onclick=\"convertToInteractive('df-18bdee02-4cef-4f7f-8829-562a49c81037')\"\n",
              "              title=\"Convert this dataframe to an interactive table.\"\n",
              "              style=\"display:none;\">\n",
              "        \n",
              "  <svg xmlns=\"http://www.w3.org/2000/svg\" height=\"24px\"viewBox=\"0 0 24 24\"\n",
              "       width=\"24px\">\n",
              "    <path d=\"M0 0h24v24H0V0z\" fill=\"none\"/>\n",
              "    <path d=\"M18.56 5.44l.94 2.06.94-2.06 2.06-.94-2.06-.94-.94-2.06-.94 2.06-2.06.94zm-11 1L8.5 8.5l.94-2.06 2.06-.94-2.06-.94L8.5 2.5l-.94 2.06-2.06.94zm10 10l.94 2.06.94-2.06 2.06-.94-2.06-.94-.94-2.06-.94 2.06-2.06.94z\"/><path d=\"M17.41 7.96l-1.37-1.37c-.4-.4-.92-.59-1.43-.59-.52 0-1.04.2-1.43.59L10.3 9.45l-7.72 7.72c-.78.78-.78 2.05 0 2.83L4 21.41c.39.39.9.59 1.41.59.51 0 1.02-.2 1.41-.59l7.78-7.78 2.81-2.81c.8-.78.8-2.07 0-2.86zM5.41 20L4 18.59l7.72-7.72 1.47 1.35L5.41 20z\"/>\n",
              "  </svg>\n",
              "      </button>\n",
              "      \n",
              "  <style>\n",
              "    .colab-df-container {\n",
              "      display:flex;\n",
              "      flex-wrap:wrap;\n",
              "      gap: 12px;\n",
              "    }\n",
              "\n",
              "    .colab-df-convert {\n",
              "      background-color: #E8F0FE;\n",
              "      border: none;\n",
              "      border-radius: 50%;\n",
              "      cursor: pointer;\n",
              "      display: none;\n",
              "      fill: #1967D2;\n",
              "      height: 32px;\n",
              "      padding: 0 0 0 0;\n",
              "      width: 32px;\n",
              "    }\n",
              "\n",
              "    .colab-df-convert:hover {\n",
              "      background-color: #E2EBFA;\n",
              "      box-shadow: 0px 1px 2px rgba(60, 64, 67, 0.3), 0px 1px 3px 1px rgba(60, 64, 67, 0.15);\n",
              "      fill: #174EA6;\n",
              "    }\n",
              "\n",
              "    [theme=dark] .colab-df-convert {\n",
              "      background-color: #3B4455;\n",
              "      fill: #D2E3FC;\n",
              "    }\n",
              "\n",
              "    [theme=dark] .colab-df-convert:hover {\n",
              "      background-color: #434B5C;\n",
              "      box-shadow: 0px 1px 3px 1px rgba(0, 0, 0, 0.15);\n",
              "      filter: drop-shadow(0px 1px 2px rgba(0, 0, 0, 0.3));\n",
              "      fill: #FFFFFF;\n",
              "    }\n",
              "  </style>\n",
              "\n",
              "      <script>\n",
              "        const buttonEl =\n",
              "          document.querySelector('#df-18bdee02-4cef-4f7f-8829-562a49c81037 button.colab-df-convert');\n",
              "        buttonEl.style.display =\n",
              "          google.colab.kernel.accessAllowed ? 'block' : 'none';\n",
              "\n",
              "        async function convertToInteractive(key) {\n",
              "          const element = document.querySelector('#df-18bdee02-4cef-4f7f-8829-562a49c81037');\n",
              "          const dataTable =\n",
              "            await google.colab.kernel.invokeFunction('convertToInteractive',\n",
              "                                                     [key], {});\n",
              "          if (!dataTable) return;\n",
              "\n",
              "          const docLinkHtml = 'Like what you see? Visit the ' +\n",
              "            '<a target=\"_blank\" href=https://colab.research.google.com/notebooks/data_table.ipynb>data table notebook</a>'\n",
              "            + ' to learn more about interactive tables.';\n",
              "          element.innerHTML = '';\n",
              "          dataTable['output_type'] = 'display_data';\n",
              "          await google.colab.output.renderOutput(dataTable, element);\n",
              "          const docLink = document.createElement('div');\n",
              "          docLink.innerHTML = docLinkHtml;\n",
              "          element.appendChild(docLink);\n",
              "        }\n",
              "      </script>\n",
              "    </div>\n",
              "  </div>\n",
              "  "
            ]
          },
          "metadata": {},
          "execution_count": 30
        }
      ]
    },
    {
      "cell_type": "code",
      "source": [
        "df['Sentiment'].hist()"
      ],
      "metadata": {
        "colab": {
          "base_uri": "https://localhost:8080/",
          "height": 283
        },
        "id": "RUp98gR9UkZO",
        "outputId": "39d20f3d-bd6e-4bb2-a17e-c80354c0d174"
      },
      "execution_count": 31,
      "outputs": [
        {
          "output_type": "execute_result",
          "data": {
            "text/plain": [
              "<matplotlib.axes._subplots.AxesSubplot at 0x7fb41d99f510>"
            ]
          },
          "metadata": {},
          "execution_count": 31
        },
        {
          "output_type": "display_data",
          "data": {
            "text/plain": [
              "<Figure size 432x288 with 1 Axes>"
            ],
            "image/png": "[encoded data removed]"
          },
          "metadata": {
            "needs_background": "light"
          }
        }
      ]
    },
    {
      "cell_type": "code",
      "source": [
        "len(df['Sentiment'])"
      ],
      "metadata": {
        "colab": {
          "base_uri": "https://localhost:8080/"
        },
        "id": "rfWQ7YuBUog-",
        "outputId": "9f4497fd-7adf-4367-9092-046e2dccbce3"
      },
      "execution_count": 32,
      "outputs": [
        {
          "output_type": "execute_result",
          "data": {
            "text/plain": [
              "9744"
            ]
          },
          "metadata": {},
          "execution_count": 32
        }
      ]
    },
    {
      "cell_type": "code",
      "source": [
        "def label_sentiments(score):\n",
        "    if score > 0:\n",
        "      return 1\n",
        "    elif score == 0:\n",
        "      return 0\n",
        "    elif score < 0:\n",
        "      return -1"
      ],
      "metadata": {
        "id": "RNrB8_FsUqvX"
      },
      "execution_count": 33,
      "outputs": []
    },
    {
      "cell_type": "code",
      "source": [
        "df['Label'] = df['Sentiment'].apply(label_sentiments)\n",
        "df['Label']"
      ],
      "metadata": {
        "colab": {
          "base_uri": "https://localhost:8080/"
        },
        "id": "Y6s5y3hHUsir",
        "outputId": "8b25cba9-b72d-4ffa-a082-4a52a1c67ed6"
      },
      "execution_count": 34,
      "outputs": [
        {
          "output_type": "execute_result",
          "data": {
            "text/plain": [
              "0       1\n",
              "1       1\n",
              "2       1\n",
              "3       1\n",
              "4       1\n",
              "       ..\n",
              "9739    1\n",
              "9740    1\n",
              "9741    0\n",
              "9742    0\n",
              "9743    1\n",
              "Name: Label, Length: 9744, dtype: int64"
            ]
          },
          "metadata": {},
          "execution_count": 34
        }
      ]
    },
    {
      "cell_type": "code",
      "source": [
        "df['Label'].value_counts()"
      ],
      "metadata": {
        "colab": {
          "base_uri": "https://localhost:8080/"
        },
        "id": "qp8Hy83lUu4G",
        "outputId": "b135a288-48f9-41b7-8cc1-3bb2e5596f3e"
      },
      "execution_count": 35,
      "outputs": [
        {
          "output_type": "execute_result",
          "data": {
            "text/plain": [
              " 1    4931\n",
              " 0    3217\n",
              "-1    1596\n",
              "Name: Label, dtype: int64"
            ]
          },
          "metadata": {},
          "execution_count": 35
        }
      ]
    },
    {
      "cell_type": "code",
      "source": [
        "df_negative = df[df['Label'] == -1]\n",
        "df_neutral = df[df['Label'] == 0]\n",
        "df_positive = df[df['Label'] == 1]\n",
        "\n",
        "print(f'Shape of Negative Entries: {df_negative.shape}')\n",
        "print(f'Shape of Positive Entries: {df_positive.shape}')\n",
        "print(f'Shape of Neutral Entries: {df_neutral.shape}')"
      ],
      "metadata": {
        "colab": {
          "base_uri": "https://localhost:8080/"
        },
        "id": "kcNy4APBUwuN",
        "outputId": "c7e4a0b6-4e97-4bb1-b198-31eb0811ede4"
      },
      "execution_count": 36,
      "outputs": [
        {
          "output_type": "stream",
          "name": "stdout",
          "text": [
            "Shape of Negative Entries: (1596, 16)\n",
            "Shape of Positive Entries: (4931, 16)\n",
            "Shape of Neutral Entries: (3217, 16)\n"
          ]
        }
      ]
    },
    {
      "cell_type": "code",
      "source": [
        "df_downsampled = pd.concat([df_negative, df_neutral.sample(df_negative.shape[0]), df_positive.sample(df_negative.shape[0])])\n",
        "df_downsampled.shape"
      ],
      "metadata": {
        "colab": {
          "base_uri": "https://localhost:8080/"
        },
        "id": "2s4m4UqIUydt",
        "outputId": "c4176866-de85-4e11-fd82-a01747ad19a4"
      },
      "execution_count": 37,
      "outputs": [
        {
          "output_type": "execute_result",
          "data": {
            "text/plain": [
              "(4788, 16)"
            ]
          },
          "metadata": {},
          "execution_count": 37
        }
      ]
    },
    {
      "cell_type": "code",
      "source": [
        "df_downsampled['Label'].value_counts()"
      ],
      "metadata": {
        "colab": {
          "base_uri": "https://localhost:8080/"
        },
        "id": "Yi6zPggWU0WC",
        "outputId": "f8a3291e-25af-4970-f662-58a23d1823ea"
      },
      "execution_count": 38,
      "outputs": [
        {
          "output_type": "execute_result",
          "data": {
            "text/plain": [
              "-1    1596\n",
              " 0    1596\n",
              " 1    1596\n",
              "Name: Label, dtype: int64"
            ]
          },
          "metadata": {},
          "execution_count": 38
        }
      ]
    },
    {
      "cell_type": "markdown",
      "source": [
        "### Split data into train-test split"
      ],
      "metadata": {
        "id": "m2MnSiGqU4PC"
      }
    },
    {
      "cell_type": "code",
      "source": [
        "from sklearn.model_selection import train_test_split\n",
        "np.random.seed(10)\n",
        "\n",
        "# X = df_downsampled['Title']\n",
        "# y = df_downsampled['Label']\n",
        "X = df['Title']\n",
        "y = df['Label']\n",
        "\n",
        "X_train, X_test, y_train, y_test = train_test_split(X, y, stratify=y)\n",
        "\n",
        "print(f'Train Shape: {X_train.shape}')\n",
        "print(f'Test Shape: {X_test.shape}')\n",
        "print(f'Train Labels Shape: {y_train.shape}')\n",
        "print(f'Test Labels SHape: {y_test.shape}')"
      ],
      "metadata": {
        "colab": {
          "base_uri": "https://localhost:8080/"
        },
        "id": "WJUuWWGpU17u",
        "outputId": "571d92a7-26e7-4828-bd57-18fc38d6028b"
      },
      "execution_count": 39,
      "outputs": [
        {
          "output_type": "stream",
          "name": "stdout",
          "text": [
            "Train Shape: (7308,)\n",
            "Test Shape: (2436,)\n",
            "Train Labels Shape: (7308,)\n",
            "Test Labels SHape: (2436,)\n"
          ]
        }
      ]
    },
    {
      "cell_type": "code",
      "source": [
        "bert_preprocess = hub.KerasLayer('https://tfhub.dev/tensorflow/bert_en_uncased_preprocess/3')\n",
        "bert_encoder = hub.KerasLayer('https://tfhub.dev/tensorflow/bert_en_uncased_L-12_H-768_A-12/4')"
      ],
      "metadata": {
        "id": "lk03n6LwVrSK"
      },
      "execution_count": 40,
      "outputs": []
    },
    {
      "cell_type": "code",
      "source": [
        "def get_embedding(sentence):\n",
        "  preprocessed = bert_preprocess(sentence)\n",
        "  return bert_encoder(preprocessed)['pooled_output']"
      ],
      "metadata": {
        "id": "S2OnoN2TVrMh"
      },
      "execution_count": 41,
      "outputs": []
    },
    {
      "cell_type": "code",
      "source": [
        "text_input = tf.keras.layers.Input(shape=(), dtype=tf.string, name='input')\n",
        "preprocessed = bert_preprocess(text_input)\n",
        "encoded = bert_encoder(preprocessed)\n",
        "\n",
        "dropout = tf.keras.layers.Dropout(0.1, name='dropout')(encoded['pooled_output'])\n",
        "output = tf.keras.layers.Dense(1, activation='sigmoid', name='output')(dropout)\n",
        "\n",
        "model = tf.keras.Model(inputs=[text_input], outputs=[output])\n",
        "model.summary()"
      ],
      "metadata": {
        "colab": {
          "base_uri": "https://localhost:8080/"
        },
        "id": "qiYmAJ6SEWOr",
        "outputId": "eb180fdd-6b54-4854-94ab-8adf4dba34bc"
      },
      "execution_count": 42,
      "outputs": [
        {
          "output_type": "stream",
          "name": "stdout",
          "text": [
            "Model: \"model_1\"\n",
            "__________________________________________________________________________________________________\n",
            " Layer (type)                   Output Shape         Param #     Connected to                     \n",
            "==================================================================================================\n",
            " input (InputLayer)             [(None,)]            0           []                               \n",
            "                                                                                                  \n",
            " keras_layer_2 (KerasLayer)     {'input_type_ids':   0           ['input[0][0]']                  \n",
            "                                (None, 128),                                                      \n",
            "                                 'input_mask': (Non                                               \n",
            "                                e, 128),                                                          \n",
            "                                 'input_word_ids':                                                \n",
            "                                (None, 128)}                                                      \n",
            "                                                                                                  \n",
            " keras_layer_3 (KerasLayer)     {'encoder_outputs':  109482241   ['keras_layer_2[0][0]',          \n",
            "                                 [(None, 128, 768),               'keras_layer_2[0][1]',          \n",
            "                                 (None, 128, 768),                'keras_layer_2[0][2]']          \n",
            "                                 (None, 128, 768),                                                \n",
            "                                 (None, 128, 768),                                                \n",
            "                                 (None, 128, 768),                                                \n",
            "                                 (None, 128, 768),                                                \n",
            "                                 (None, 128, 768),                                                \n",
            "                                 (None, 128, 768),                                                \n",
            "                                 (None, 128, 768),                                                \n",
            "                                 (None, 128, 768),                                                \n",
            "                                 (None, 128, 768),                                                \n",
            "                                 (None, 128, 768)],                                               \n",
            "                                 'default': (None,                                                \n",
            "                                768),                                                             \n",
            "                                 'sequence_output':                                               \n",
            "                                 (None, 128, 768),                                                \n",
            "                                 'pooled_output': (                                               \n",
            "                                None, 768)}                                                       \n",
            "                                                                                                  \n",
            " dropout (Dropout)              (None, 768)          0           ['keras_layer_3[0][13]']         \n",
            "                                                                                                  \n",
            " output (Dense)                 (None, 1)            769         ['dropout[0][0]']                \n",
            "                                                                                                  \n",
            "==================================================================================================\n",
            "Total params: 109,483,010\n",
            "Trainable params: 769\n",
            "Non-trainable params: 109,482,241\n",
            "__________________________________________________________________________________________________\n"
          ]
        }
      ]
    },
    {
      "cell_type": "code",
      "source": [
        "model.compile(optimizer='adam',\n",
        "              loss='binary_crossentropy',\n",
        "              metrics='accuracy')\n",
        "model.fit(X_train, y_train, epochs=20)"
      ],
      "metadata": {
        "colab": {
          "base_uri": "https://localhost:8080/"
        },
        "id": "_Ux9YYW-KSuV",
        "outputId": "b216cc08-fc43-4dfb-e468-db3af68db2ac"
      },
      "execution_count": 43,
      "outputs": [
        {
          "output_type": "stream",
          "name": "stdout",
          "text": [
            "Epoch 1/20\n",
            "229/229 [==============================] - 98s 362ms/step - loss: 0.6483 - accuracy: 0.3506\n",
            "Epoch 2/20\n",
            "229/229 [==============================] - 81s 355ms/step - loss: 0.6286 - accuracy: 0.3794\n",
            "Epoch 3/20\n",
            "229/229 [==============================] - 81s 353ms/step - loss: 0.6178 - accuracy: 0.3905\n",
            "Epoch 4/20\n",
            "229/229 [==============================] - 81s 352ms/step - loss: 0.6086 - accuracy: 0.4000\n",
            "Epoch 5/20\n",
            "229/229 [==============================] - 81s 353ms/step - loss: 0.6139 - accuracy: 0.4048\n",
            "Epoch 6/20\n",
            "229/229 [==============================] - 81s 353ms/step - loss: 0.6117 - accuracy: 0.4112\n",
            "Epoch 7/20\n",
            "229/229 [==============================] - 81s 356ms/step - loss: 0.6073 - accuracy: 0.4216\n",
            "Epoch 8/20\n",
            "229/229 [==============================] - 82s 359ms/step - loss: 0.6115 - accuracy: 0.4231\n",
            "Epoch 9/20\n",
            "229/229 [==============================] - 81s 354ms/step - loss: 0.6068 - accuracy: 0.4317\n",
            "Epoch 10/20\n",
            "229/229 [==============================] - 81s 352ms/step - loss: 0.5945 - accuracy: 0.4325\n",
            "Epoch 11/20\n",
            "229/229 [==============================] - 81s 352ms/step - loss: 0.6191 - accuracy: 0.4271\n",
            "Epoch 12/20\n",
            "229/229 [==============================] - 81s 353ms/step - loss: 0.6087 - accuracy: 0.4353\n",
            "Epoch 13/20\n",
            "229/229 [==============================] - 81s 352ms/step - loss: 0.6027 - accuracy: 0.4323\n",
            "Epoch 14/20\n",
            "229/229 [==============================] - 81s 352ms/step - loss: 0.6002 - accuracy: 0.4384\n",
            "Epoch 15/20\n",
            "229/229 [==============================] - 80s 351ms/step - loss: 0.6040 - accuracy: 0.4366\n",
            "Epoch 16/20\n",
            "229/229 [==============================] - 81s 352ms/step - loss: 0.6050 - accuracy: 0.4346\n",
            "Epoch 17/20\n",
            "229/229 [==============================] - 81s 353ms/step - loss: 0.6007 - accuracy: 0.4375\n",
            "Epoch 18/20\n",
            "229/229 [==============================] - 81s 352ms/step - loss: 0.6028 - accuracy: 0.4327\n",
            "Epoch 19/20\n",
            "229/229 [==============================] - 81s 353ms/step - loss: 0.5942 - accuracy: 0.4424\n",
            "Epoch 20/20\n",
            "229/229 [==============================] - 81s 353ms/step - loss: 0.5999 - accuracy: 0.4442\n"
          ]
        },
        {
          "output_type": "execute_result",
          "data": {
            "text/plain": [
              "<keras.callbacks.History at 0x7fb41e7cd950>"
            ]
          },
          "metadata": {},
          "execution_count": 43
        }
      ]
    },
    {
      "cell_type": "code",
      "source": [
        ""
      ],
      "metadata": {
        "id": "o-1ElEIeTuI7"
      },
      "execution_count": 43,
      "outputs": []
    }
  ]
}