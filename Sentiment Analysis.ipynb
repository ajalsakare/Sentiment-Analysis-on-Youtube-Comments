{
 "cells": [
  {
   "cell_type": "markdown",
   "id": "fc8428be",
   "metadata": {},
   "source": [
    "<center><h2> Sentiment Analysis and Topic Modeling on Youtube Comments</h2></center>"
   ]
  },
  {
   "cell_type": "markdown",
   "id": "a5c84281",
   "metadata": {},
   "source": [
    "### Import Required Libraries"
   ]
  },
  {
   "cell_type": "code",
   "execution_count": 88,
   "id": "3331faec",
   "metadata": {},
   "outputs": [],
   "source": [
    "import pandas as pd\n",
    "import numpy as np\n",
    "import matplotlib.pyplot as plt\n",
    "import plotly.express as px\n",
    "import re\n",
    "import nltk\n",
    "from cleantext import clean\n",
    "import spacy"
   ]
  },
  {
   "cell_type": "code",
   "execution_count": 89,
   "id": "1d00bb83",
   "metadata": {},
   "outputs": [
    {
     "data": {
      "text/html": [
       "<div>\n",
       "<style scoped>\n",
       "    .dataframe tbody tr th:only-of-type {\n",
       "        vertical-align: middle;\n",
       "    }\n",
       "\n",
       "    .dataframe tbody tr th {\n",
       "        vertical-align: top;\n",
       "    }\n",
       "\n",
       "    .dataframe thead th {\n",
       "        text-align: right;\n",
       "    }\n",
       "</style>\n",
       "<table border=\"1\" class=\"dataframe\">\n",
       "  <thead>\n",
       "    <tr style=\"text-align: right;\">\n",
       "      <th></th>\n",
       "      <th>Video Number</th>\n",
       "      <th>Title</th>\n",
       "      <th>Date Published</th>\n",
       "      <th>Views</th>\n",
       "      <th>Likes</th>\n",
       "      <th>Auther</th>\n",
       "      <th>Comment</th>\n",
       "    </tr>\n",
       "  </thead>\n",
       "  <tbody>\n",
       "    <tr>\n",
       "      <th>0</th>\n",
       "      <td>1</td>\n",
       "      <td>How to Make a Great Linkedin - TIPS + EXAMPLES</td>\n",
       "      <td>2022-07-10</td>\n",
       "      <td>1577</td>\n",
       "      <td>106</td>\n",
       "      <td>The Sigma Male</td>\n",
       "      <td>Really helpful session it was 👌\\nAnd that odia...</td>\n",
       "    </tr>\n",
       "    <tr>\n",
       "      <th>1</th>\n",
       "      <td>1</td>\n",
       "      <td>How to Make a Great Linkedin - TIPS + EXAMPLES</td>\n",
       "      <td>2022-07-10</td>\n",
       "      <td>1577</td>\n",
       "      <td>106</td>\n",
       "      <td>Sagar Verma</td>\n",
       "      <td>Hello Sir, can you make a video on project por...</td>\n",
       "    </tr>\n",
       "    <tr>\n",
       "      <th>2</th>\n",
       "      <td>1</td>\n",
       "      <td>How to Make a Great Linkedin - TIPS + EXAMPLES</td>\n",
       "      <td>2022-07-10</td>\n",
       "      <td>1577</td>\n",
       "      <td>106</td>\n",
       "      <td>Charan Sai Annam</td>\n",
       "      <td>Hi please make a video on deploying the stream...</td>\n",
       "    </tr>\n",
       "    <tr>\n",
       "      <th>3</th>\n",
       "      <td>1</td>\n",
       "      <td>How to Make a Great Linkedin - TIPS + EXAMPLES</td>\n",
       "      <td>2022-07-10</td>\n",
       "      <td>1577</td>\n",
       "      <td>106</td>\n",
       "      <td>Samadhan Chavan</td>\n",
       "      <td>Very Helpful session</td>\n",
       "    </tr>\n",
       "    <tr>\n",
       "      <th>4</th>\n",
       "      <td>1</td>\n",
       "      <td>How to Make a Great Linkedin - TIPS + EXAMPLES</td>\n",
       "      <td>2022-07-10</td>\n",
       "      <td>1577</td>\n",
       "      <td>106</td>\n",
       "      <td>Sasidhar Kuchibhotla</td>\n",
       "      <td>Hi @satyajit - Can you pls share the files. It...</td>\n",
       "    </tr>\n",
       "  </tbody>\n",
       "</table>\n",
       "</div>"
      ],
      "text/plain": [
       "   Video Number                                           Title  \\\n",
       "0             1  How to Make a Great Linkedin - TIPS + EXAMPLES   \n",
       "1             1  How to Make a Great Linkedin - TIPS + EXAMPLES   \n",
       "2             1  How to Make a Great Linkedin - TIPS + EXAMPLES   \n",
       "3             1  How to Make a Great Linkedin - TIPS + EXAMPLES   \n",
       "4             1  How to Make a Great Linkedin - TIPS + EXAMPLES   \n",
       "\n",
       "  Date Published  Views  Likes                Auther  \\\n",
       "0     2022-07-10   1577    106        The Sigma Male   \n",
       "1     2022-07-10   1577    106           Sagar Verma   \n",
       "2     2022-07-10   1577    106      Charan Sai Annam   \n",
       "3     2022-07-10   1577    106       Samadhan Chavan   \n",
       "4     2022-07-10   1577    106  Sasidhar Kuchibhotla   \n",
       "\n",
       "                                             Comment  \n",
       "0  Really helpful session it was 👌\\nAnd that odia...  \n",
       "1  Hello Sir, can you make a video on project por...  \n",
       "2  Hi please make a video on deploying the stream...  \n",
       "3                               Very Helpful session  \n",
       "4  Hi @satyajit - Can you pls share the files. It...  "
      ]
     },
     "execution_count": 89,
     "metadata": {},
     "output_type": "execute_result"
    }
   ],
   "source": [
    "comments_df = pd.read_csv('youtube_list.csv')\n",
    "comments_df.drop('Unnamed: 0', inplace=True, axis=1)\n",
    "comments_df.head()"
   ]
  },
  {
   "cell_type": "code",
   "execution_count": 90,
   "id": "c6807e6a",
   "metadata": {},
   "outputs": [
    {
     "data": {
      "text/plain": [
       "(228, 7)"
      ]
     },
     "execution_count": 90,
     "metadata": {},
     "output_type": "execute_result"
    }
   ],
   "source": [
    "comments_df.shape"
   ]
  },
  {
   "cell_type": "markdown",
   "id": "0c0aa79f",
   "metadata": {},
   "source": [
    "So this dataset contains only 228 comments with 6 other columns representing video details."
   ]
  },
  {
   "cell_type": "code",
   "execution_count": 91,
   "id": "796db442",
   "metadata": {},
   "outputs": [
    {
     "data": {
      "text/plain": [
       "Index(['Video Number', 'Title', 'Date Published', 'Views', 'Likes', 'Auther',\n",
       "       'Comment'],\n",
       "      dtype='object')"
      ]
     },
     "execution_count": 91,
     "metadata": {},
     "output_type": "execute_result"
    }
   ],
   "source": [
    "comments_df.columns"
   ]
  },
  {
   "cell_type": "markdown",
   "id": "ceb61422",
   "metadata": {},
   "source": [
    "* `Video Number` - Serial number for videos.\n",
    "* `Title` - Title of the Youtube video.\n",
    "* `Date Published` - Date when the video was uploaded.\n",
    "* `Views` - Number of views for that video.\n",
    "* `Likes` - Number of likes on that video.\n",
    "* `Author` - Name of the user who posted the comment.\n",
    "* `Comment` - Comment on the video."
   ]
  },
  {
   "cell_type": "code",
   "execution_count": 92,
   "id": "083044e8",
   "metadata": {},
   "outputs": [
    {
     "data": {
      "text/html": [
       "<div>\n",
       "<style scoped>\n",
       "    .dataframe tbody tr th:only-of-type {\n",
       "        vertical-align: middle;\n",
       "    }\n",
       "\n",
       "    .dataframe tbody tr th {\n",
       "        vertical-align: top;\n",
       "    }\n",
       "\n",
       "    .dataframe thead th {\n",
       "        text-align: right;\n",
       "    }\n",
       "</style>\n",
       "<table border=\"1\" class=\"dataframe\">\n",
       "  <thead>\n",
       "    <tr style=\"text-align: right;\">\n",
       "      <th></th>\n",
       "      <th>Video Number</th>\n",
       "      <th>Views</th>\n",
       "      <th>Likes</th>\n",
       "    </tr>\n",
       "  </thead>\n",
       "  <tbody>\n",
       "    <tr>\n",
       "      <th>count</th>\n",
       "      <td>228.000000</td>\n",
       "      <td>228.000000</td>\n",
       "      <td>228.000000</td>\n",
       "    </tr>\n",
       "    <tr>\n",
       "      <th>mean</th>\n",
       "      <td>16.311404</td>\n",
       "      <td>4049.412281</td>\n",
       "      <td>200.583333</td>\n",
       "    </tr>\n",
       "    <tr>\n",
       "      <th>std</th>\n",
       "      <td>7.794410</td>\n",
       "      <td>2820.960997</td>\n",
       "      <td>123.392812</td>\n",
       "    </tr>\n",
       "    <tr>\n",
       "      <th>min</th>\n",
       "      <td>1.000000</td>\n",
       "      <td>367.000000</td>\n",
       "      <td>21.000000</td>\n",
       "    </tr>\n",
       "    <tr>\n",
       "      <th>25%</th>\n",
       "      <td>8.000000</td>\n",
       "      <td>2018.500000</td>\n",
       "      <td>113.500000</td>\n",
       "    </tr>\n",
       "    <tr>\n",
       "      <th>50%</th>\n",
       "      <td>16.000000</td>\n",
       "      <td>2878.000000</td>\n",
       "      <td>155.000000</td>\n",
       "    </tr>\n",
       "    <tr>\n",
       "      <th>75%</th>\n",
       "      <td>23.000000</td>\n",
       "      <td>6858.000000</td>\n",
       "      <td>281.000000</td>\n",
       "    </tr>\n",
       "    <tr>\n",
       "      <th>max</th>\n",
       "      <td>30.000000</td>\n",
       "      <td>8726.000000</td>\n",
       "      <td>458.000000</td>\n",
       "    </tr>\n",
       "  </tbody>\n",
       "</table>\n",
       "</div>"
      ],
      "text/plain": [
       "       Video Number        Views       Likes\n",
       "count    228.000000   228.000000  228.000000\n",
       "mean      16.311404  4049.412281  200.583333\n",
       "std        7.794410  2820.960997  123.392812\n",
       "min        1.000000   367.000000   21.000000\n",
       "25%        8.000000  2018.500000  113.500000\n",
       "50%       16.000000  2878.000000  155.000000\n",
       "75%       23.000000  6858.000000  281.000000\n",
       "max       30.000000  8726.000000  458.000000"
      ]
     },
     "execution_count": 92,
     "metadata": {},
     "output_type": "execute_result"
    }
   ],
   "source": [
    "comments_df.describe()"
   ]
  },
  {
   "cell_type": "code",
   "execution_count": 93,
   "id": "a1f00d9a",
   "metadata": {},
   "outputs": [
    {
     "name": "stdout",
     "output_type": "stream",
     "text": [
      "<class 'pandas.core.frame.DataFrame'>\n",
      "RangeIndex: 228 entries, 0 to 227\n",
      "Data columns (total 7 columns):\n",
      " #   Column          Non-Null Count  Dtype \n",
      "---  ------          --------------  ----- \n",
      " 0   Video Number    228 non-null    int64 \n",
      " 1   Title           228 non-null    object\n",
      " 2   Date Published  228 non-null    object\n",
      " 3   Views           228 non-null    int64 \n",
      " 4   Likes           228 non-null    int64 \n",
      " 5   Auther          199 non-null    object\n",
      " 6   Comment         200 non-null    object\n",
      "dtypes: int64(3), object(4)\n",
      "memory usage: 12.6+ KB\n"
     ]
    }
   ],
   "source": [
    "comments_df.info()"
   ]
  },
  {
   "cell_type": "markdown",
   "id": "4db3a5c2",
   "metadata": {},
   "source": [
    "We'll drop the rows where comment is null."
   ]
  },
  {
   "cell_type": "code",
   "execution_count": 94,
   "id": "15ac490b",
   "metadata": {},
   "outputs": [],
   "source": [
    "comments_df.dropna(axis=0, inplace=True)"
   ]
  },
  {
   "cell_type": "code",
   "execution_count": 95,
   "id": "6be301fa",
   "metadata": {},
   "outputs": [
    {
     "name": "stdout",
     "output_type": "stream",
     "text": [
      "<class 'pandas.core.frame.DataFrame'>\n",
      "Int64Index: 198 entries, 0 to 200\n",
      "Data columns (total 7 columns):\n",
      " #   Column          Non-Null Count  Dtype \n",
      "---  ------          --------------  ----- \n",
      " 0   Video Number    198 non-null    int64 \n",
      " 1   Title           198 non-null    object\n",
      " 2   Date Published  198 non-null    object\n",
      " 3   Views           198 non-null    int64 \n",
      " 4   Likes           198 non-null    int64 \n",
      " 5   Auther          198 non-null    object\n",
      " 6   Comment         198 non-null    object\n",
      "dtypes: int64(3), object(4)\n",
      "memory usage: 12.4+ KB\n"
     ]
    }
   ],
   "source": [
    "comments_df.info()"
   ]
  },
  {
   "cell_type": "markdown",
   "id": "c7ea2b7c",
   "metadata": {},
   "source": [
    "### Text processing and cleaning:"
   ]
  },
  {
   "cell_type": "markdown",
   "id": "cf62577b",
   "metadata": {},
   "source": [
    "This function removes emojis, symbols such as `'?'`, `'/'`, `'.'`, `','` and short-forms present in the comments."
   ]
  },
  {
   "cell_type": "code",
   "execution_count": 96,
   "id": "0fb697c4",
   "metadata": {},
   "outputs": [
    {
     "data": {
      "text/plain": [
       "'Are these SQL classes are enough for a power bi developer for 3 yrs experience??'"
      ]
     },
     "execution_count": 96,
     "metadata": {},
     "output_type": "execute_result"
    }
   ],
   "source": [
    "comments_df.iloc[42]['Comment']"
   ]
  },
  {
   "cell_type": "code",
   "execution_count": 97,
   "id": "3a8af201",
   "metadata": {},
   "outputs": [],
   "source": [
    "def clean_comments(text):\n",
    "    \"takes text in raw format and returns clean text with only words and letters. \"\n",
    "    \n",
    "    text = re.sub(r\"[0-9]+\", \"\", text)\n",
    "    text = text.lower()\n",
    "    text = clean(text, no_emoji=True)\n",
    "    text = re.sub(r\"\\?\", \"\", text)\n",
    "    text = re.sub(r\"\\$\", \"\", text)\n",
    "    text = re.sub(r\"\\+\", \"\", text)\n",
    "    text = re.sub(r\"\\:\", \"\", text)\n",
    "    text = re.sub(r\"\\&\", \"\", text)\n",
    "    text = re.sub(r\"\\-\", \"\", text)\n",
    "    text = re.sub(r\"\\%\", \"\", text)\n",
    "    text = re.sub(r'\\\"', '', text)\n",
    "    text = re.sub(r\"\\!\", \"\", text)\n",
    "    text = re.sub(r\"\\.\", \"\", text)\n",
    "    text = re.sub(r\"\\(\", \"\", text)\n",
    "    text = re.sub(r\"\\)\", \"\", text)\n",
    "    text = re.sub(r\"\\/\", \" \", text)\n",
    "    text = re.sub(r\"\\,\", \"\", text)\n",
    "    text = re.sub(r\"\\n\", \" \", text)\n",
    "    text = re.sub(r\"it'll\", \"it will\", text)\n",
    "    text = re.sub(r\"didn't\", \"did not\", text)\n",
    "    text = re.sub(r\">\", \"\", text)\n",
    "    text = re.sub(r\"can't\", \"can not\", text)\n",
    "    text = re.sub(r\"haven't\", \"have not\", text)\n",
    "    text = re.sub(r\"aren't\", \"are not\", text)\n",
    "    text = re.sub(r\"'re\", \" are\", text)\n",
    "    text = re.sub(r\"i'll\", \"i will\", text)\n",
    "    text = re.sub(r\"i've\", \"i have\", text)\n",
    "    text = re.sub(r\"i'm\", \"i am\", text)\n",
    "    text = re.sub(r\"don't\", \"do not\", text)\n",
    "#   text = re.sub(r\"i'd\", \"i did\", text)\n",
    "    text = re.sub(r\"that'd\", \"that would\", text)\n",
    "    text = re.sub(r\"'s\", \" \", text)\n",
    "    text = text.replace('@', '')\n",
    "    text = text.strip()\n",
    "    \n",
    "    return text"
   ]
  },
  {
   "cell_type": "code",
   "execution_count": 98,
   "id": "83649265",
   "metadata": {},
   "outputs": [],
   "source": [
    "comments_df['Comment'] = comments_df['Comment'].apply(clean_comments)"
   ]
  },
  {
   "cell_type": "code",
   "execution_count": 99,
   "id": "fb133a7a",
   "metadata": {},
   "outputs": [
    {
     "data": {
      "text/plain": [
       "0      really helpful session it was and that odia co...\n",
       "1      hello sir can you make a video on project port...\n",
       "2      hi please make a video on deploying the stream...\n",
       "3                                   very helpful session\n",
       "4      hi satyajit  can you pls share the files it wo...\n",
       "                             ...                        \n",
       "196                                   most awaited video\n",
       "197                                            thank you\n",
       "198                               very informative video\n",
       "199    you are having crores and crores earning well ...\n",
       "200    sir you are earning s of crores hong kong and ...\n",
       "Name: Comment, Length: 198, dtype: object"
      ]
     },
     "execution_count": 99,
     "metadata": {},
     "output_type": "execute_result"
    }
   ],
   "source": [
    "comments_df['Comment']"
   ]
  },
  {
   "cell_type": "markdown",
   "id": "4cb0e6a1",
   "metadata": {},
   "source": [
    "### Removing Stopwords"
   ]
  },
  {
   "cell_type": "code",
   "execution_count": 100,
   "id": "b7f03c4e",
   "metadata": {},
   "outputs": [],
   "source": [
    "from nltk.corpus import stopwords\n",
    "stop_words = stopwords.words('english')"
   ]
  },
  {
   "cell_type": "code",
   "execution_count": 101,
   "id": "bf1052ba",
   "metadata": {},
   "outputs": [],
   "source": [
    "def remove_stopwords(text):\n",
    "    \n",
    "    new_text = []\n",
    "    for i in text.split(' '):\n",
    "        \n",
    "        if i not in stop_words:\n",
    "            str(new_text.append(i))\n",
    "            new_text.append(' ')\n",
    "        else:\n",
    "            pass\n",
    "            \n",
    "    text = ''.join(new_text)\n",
    "    \n",
    "    return text"
   ]
  },
  {
   "cell_type": "code",
   "execution_count": 102,
   "id": "878510f8",
   "metadata": {},
   "outputs": [],
   "source": [
    "comments_df['Comment'] = comments_df['Comment'].apply(remove_stopwords)"
   ]
  },
  {
   "cell_type": "code",
   "execution_count": 103,
   "id": "debf15ec",
   "metadata": {},
   "outputs": [
    {
     "data": {
      "text/plain": [
       "0      really helpful session odia connection session...\n",
       "1      hello sir make video project portfolio creatio...\n",
       "2      hi please make video deploying streamlit appli...\n",
       "3                                       helpful session \n",
       "4      hi satyajit  pls share files would help us pra...\n",
       "                             ...                        \n",
       "196                                       awaited video \n",
       "197                                               thank \n",
       "198                                   informative video \n",
       "199    crores crores earning well luxurioys life need...\n",
       "200           sir earning crores hong kong talking like \n",
       "Name: Comment, Length: 198, dtype: object"
      ]
     },
     "execution_count": 103,
     "metadata": {},
     "output_type": "execute_result"
    }
   ],
   "source": [
    "comments_df['Comment']"
   ]
  },
  {
   "cell_type": "markdown",
   "id": "e8cc4ed7",
   "metadata": {},
   "source": [
    "Now you can see after applying the `remove_stopwords()` function we don't have any stopword in the comment texts."
   ]
  },
  {
   "cell_type": "markdown",
   "id": "4a6a686c",
   "metadata": {},
   "source": [
    "### Lemmatization\n",
    "\n",
    "Lemmatization is the process of reducing the words to its base word. For example the base word for looks, looking, looked is look."
   ]
  },
  {
   "cell_type": "code",
   "execution_count": 104,
   "id": "852f8124",
   "metadata": {},
   "outputs": [
    {
     "data": {
      "text/plain": [
       "198"
      ]
     },
     "execution_count": 104,
     "metadata": {},
     "output_type": "execute_result"
    }
   ],
   "source": [
    "text_list = comments_df['Comment'].tolist()\n",
    "len(text_list)"
   ]
  },
  {
   "cell_type": "code",
   "execution_count": 105,
   "id": "2b68129a",
   "metadata": {},
   "outputs": [],
   "source": [
    "nlp = spacy.load('en_core_web_md', disable=['parser', 'ner'])\n",
    "\n",
    "def lemmatization(texts, allowed_postags=['NOUN', 'ADJ']): \n",
    "    output = []\n",
    "    for sent in texts:\n",
    "        doc = nlp(sent) \n",
    "        output.append([token.lemma_ for token in doc if token.pos_ in allowed_postags ])\n",
    "    return output"
   ]
  },
  {
   "cell_type": "code",
   "execution_count": 106,
   "id": "21bc89e4",
   "metadata": {},
   "outputs": [],
   "source": [
    "# from nltk.stem import WordNetLemmatizer\n",
    "\n",
    "# def lemmatization(text):\n",
    "    \n",
    "#     lematizer = WordNetLemmatizer()\n",
    "#     new_text = []\n",
    "#     for i in text.split(' '):\n",
    "#         new_text.append(lematizer.lemmatize(i))\n",
    "#         new_text.append(' ')\n",
    "#     text = ''.join(new_text)\n",
    "    \n",
    "#     return text.strip()"
   ]
  },
  {
   "cell_type": "code",
   "execution_count": 107,
   "id": "a817cb8d",
   "metadata": {},
   "outputs": [],
   "source": [
    "lemmatized_words = lemmatization(text_list)"
   ]
  },
  {
   "cell_type": "markdown",
   "id": "7e07ef04",
   "metadata": {},
   "source": [
    "Finding total length of lemmatized words for calculating Sentiment score."
   ]
  },
  {
   "cell_type": "code",
   "execution_count": 108,
   "id": "6918f25b",
   "metadata": {},
   "outputs": [
    {
     "data": {
      "text/html": [
       "<div>\n",
       "<style scoped>\n",
       "    .dataframe tbody tr th:only-of-type {\n",
       "        vertical-align: middle;\n",
       "    }\n",
       "\n",
       "    .dataframe tbody tr th {\n",
       "        vertical-align: top;\n",
       "    }\n",
       "\n",
       "    .dataframe thead th {\n",
       "        text-align: right;\n",
       "    }\n",
       "</style>\n",
       "<table border=\"1\" class=\"dataframe\">\n",
       "  <thead>\n",
       "    <tr style=\"text-align: right;\">\n",
       "      <th></th>\n",
       "      <th>Video Number</th>\n",
       "      <th>Title</th>\n",
       "      <th>Date Published</th>\n",
       "      <th>Views</th>\n",
       "      <th>Likes</th>\n",
       "      <th>Auther</th>\n",
       "      <th>Comment</th>\n",
       "      <th>Lemmatized Words</th>\n",
       "      <th>Total Length</th>\n",
       "    </tr>\n",
       "  </thead>\n",
       "  <tbody>\n",
       "    <tr>\n",
       "      <th>0</th>\n",
       "      <td>1</td>\n",
       "      <td>How to Make a Great Linkedin - TIPS + EXAMPLES</td>\n",
       "      <td>2022-07-10</td>\n",
       "      <td>1577</td>\n",
       "      <td>106</td>\n",
       "      <td>The Sigma Male</td>\n",
       "      <td>really helpful session odia connection session...</td>\n",
       "      <td>[helpful, session, connection, session, alot, ...</td>\n",
       "      <td>11</td>\n",
       "    </tr>\n",
       "    <tr>\n",
       "      <th>1</th>\n",
       "      <td>1</td>\n",
       "      <td>How to Make a Great Linkedin - TIPS + EXAMPLES</td>\n",
       "      <td>2022-07-10</td>\n",
       "      <td>1577</td>\n",
       "      <td>106</td>\n",
       "      <td>Sagar Verma</td>\n",
       "      <td>hello sir make video project portfolio creatio...</td>\n",
       "      <td>[sir, video, project, portfolio, creation, ana...</td>\n",
       "      <td>7</td>\n",
       "    </tr>\n",
       "    <tr>\n",
       "      <th>2</th>\n",
       "      <td>1</td>\n",
       "      <td>How to Make a Great Linkedin - TIPS + EXAMPLES</td>\n",
       "      <td>2022-07-10</td>\n",
       "      <td>1577</td>\n",
       "      <td>106</td>\n",
       "      <td>Charan Sai Annam</td>\n",
       "      <td>hi please make video deploying streamlit appli...</td>\n",
       "      <td>[video, application, aw]</td>\n",
       "      <td>3</td>\n",
       "    </tr>\n",
       "    <tr>\n",
       "      <th>3</th>\n",
       "      <td>1</td>\n",
       "      <td>How to Make a Great Linkedin - TIPS + EXAMPLES</td>\n",
       "      <td>2022-07-10</td>\n",
       "      <td>1577</td>\n",
       "      <td>106</td>\n",
       "      <td>Samadhan Chavan</td>\n",
       "      <td>helpful session</td>\n",
       "      <td>[helpful, session]</td>\n",
       "      <td>2</td>\n",
       "    </tr>\n",
       "    <tr>\n",
       "      <th>4</th>\n",
       "      <td>1</td>\n",
       "      <td>How to Make a Great Linkedin - TIPS + EXAMPLES</td>\n",
       "      <td>2022-07-10</td>\n",
       "      <td>1577</td>\n",
       "      <td>106</td>\n",
       "      <td>Sasidhar Kuchibhotla</td>\n",
       "      <td>hi satyajit  pls share files would help us pra...</td>\n",
       "      <td>[share, file, thank, session]</td>\n",
       "      <td>4</td>\n",
       "    </tr>\n",
       "  </tbody>\n",
       "</table>\n",
       "</div>"
      ],
      "text/plain": [
       "   Video Number                                           Title  \\\n",
       "0             1  How to Make a Great Linkedin - TIPS + EXAMPLES   \n",
       "1             1  How to Make a Great Linkedin - TIPS + EXAMPLES   \n",
       "2             1  How to Make a Great Linkedin - TIPS + EXAMPLES   \n",
       "3             1  How to Make a Great Linkedin - TIPS + EXAMPLES   \n",
       "4             1  How to Make a Great Linkedin - TIPS + EXAMPLES   \n",
       "\n",
       "  Date Published  Views  Likes                Auther  \\\n",
       "0     2022-07-10   1577    106        The Sigma Male   \n",
       "1     2022-07-10   1577    106           Sagar Verma   \n",
       "2     2022-07-10   1577    106      Charan Sai Annam   \n",
       "3     2022-07-10   1577    106       Samadhan Chavan   \n",
       "4     2022-07-10   1577    106  Sasidhar Kuchibhotla   \n",
       "\n",
       "                                             Comment  \\\n",
       "0  really helpful session odia connection session...   \n",
       "1  hello sir make video project portfolio creatio...   \n",
       "2  hi please make video deploying streamlit appli...   \n",
       "3                                   helpful session    \n",
       "4  hi satyajit  pls share files would help us pra...   \n",
       "\n",
       "                                    Lemmatized Words  Total Length  \n",
       "0  [helpful, session, connection, session, alot, ...            11  \n",
       "1  [sir, video, project, portfolio, creation, ana...             7  \n",
       "2                           [video, application, aw]             3  \n",
       "3                                 [helpful, session]             2  \n",
       "4                      [share, file, thank, session]             4  "
      ]
     },
     "execution_count": 108,
     "metadata": {},
     "output_type": "execute_result"
    }
   ],
   "source": [
    "comments_df['Lemmatized Words'] = [i for i in lemmatized_words]\n",
    "comments_df['Total Length'] = [len(i) for i in lemmatized_words]\n",
    "comments_df.head()"
   ]
  },
  {
   "cell_type": "code",
   "execution_count": 109,
   "id": "79af9597",
   "metadata": {},
   "outputs": [],
   "source": [
    "# comments_df['Comment'] = comments_df['Comment'].apply(lemmatization)\n",
    "# comments_df"
   ]
  },
  {
   "cell_type": "markdown",
   "id": "6a59ed67",
   "metadata": {},
   "source": [
    "**Before and After Lemmatization**"
   ]
  },
  {
   "cell_type": "code",
   "execution_count": 110,
   "id": "8ba8530d",
   "metadata": {},
   "outputs": [
    {
     "name": "stdout",
     "output_type": "stream",
     "text": [
      "Before: \n",
      "hi satyajit  pls share files would help us practice thanks session \n",
      "\n",
      "After: \n",
      "['share', 'file', 'thank', 'session']\n"
     ]
    }
   ],
   "source": [
    "index = 4\n",
    "\n",
    "print(f'Before: \\n{text_list[index]}')\n",
    "\n",
    "# text_list_lemma = comments_df['Comment'].tolist()\n",
    "print(f'\\nAfter: \\n{lemmatized_words[index]}')"
   ]
  },
  {
   "cell_type": "markdown",
   "id": "42dac427",
   "metadata": {},
   "source": [
    "Reading words from database of `positive` and `negative` words."
   ]
  },
  {
   "cell_type": "code",
   "execution_count": 111,
   "id": "919ce92c",
   "metadata": {},
   "outputs": [],
   "source": [
    "file1 = open('positive-words.txt', 'r')\n",
    "pos_words = file1.read().split()\n",
    "\n",
    "file2 = open('negative-words.txt', 'r')\n",
    "neg_words = file2.read().split()"
   ]
  },
  {
   "cell_type": "code",
   "execution_count": 112,
   "id": "fa4f1638",
   "metadata": {},
   "outputs": [
    {
     "name": "stdout",
     "output_type": "stream",
     "text": [
      "\n",
      "------------------------\n",
      "Few sample words:\n",
      "------------------------\n",
      "Positive Words\n",
      "------------------------\n",
      "\n",
      "a+\n",
      "abound\n",
      "abounds\n",
      "abundance\n",
      "abundant\n",
      "\n",
      "------------------------\n",
      "Negative Words\n",
      "------------------------\n",
      "\n",
      "2-faced\n",
      "2-faces\n",
      "abnormal\n",
      "abolish\n",
      "abominable\n"
     ]
    }
   ],
   "source": [
    "print('\\n------------------------\\nFew sample words:\\n------------------------\\nPositive Words\\n------------------------\\n')\n",
    "for i in range(5):\n",
    "    print(pos_words[i])\n",
    "\n",
    "print('\\n------------------------\\nNegative Words\\n------------------------\\n')\n",
    "for i in range(5):\n",
    "    print(neg_words[i])"
   ]
  },
  {
   "cell_type": "code",
   "execution_count": 113,
   "id": "ad78aa06",
   "metadata": {},
   "outputs": [],
   "source": [
    "def count_pos(text):\n",
    "    \n",
    "    count = 0\n",
    "    for i in text:\n",
    "        if i in pos_words:\n",
    "            count += 1\n",
    "            \n",
    "    return count\n",
    "\n",
    "def count_neg(text):\n",
    "    \n",
    "    count = 0\n",
    "    for i in text:\n",
    "        if i in neg_words:\n",
    "            count += 1\n",
    "            \n",
    "    return count"
   ]
  },
  {
   "cell_type": "code",
   "execution_count": 114,
   "id": "e3733ae4",
   "metadata": {},
   "outputs": [
    {
     "data": {
      "text/html": [
       "<div>\n",
       "<style scoped>\n",
       "    .dataframe tbody tr th:only-of-type {\n",
       "        vertical-align: middle;\n",
       "    }\n",
       "\n",
       "    .dataframe tbody tr th {\n",
       "        vertical-align: top;\n",
       "    }\n",
       "\n",
       "    .dataframe thead th {\n",
       "        text-align: right;\n",
       "    }\n",
       "</style>\n",
       "<table border=\"1\" class=\"dataframe\">\n",
       "  <thead>\n",
       "    <tr style=\"text-align: right;\">\n",
       "      <th></th>\n",
       "      <th>Video Number</th>\n",
       "      <th>Title</th>\n",
       "      <th>Date Published</th>\n",
       "      <th>Views</th>\n",
       "      <th>Likes</th>\n",
       "      <th>Auther</th>\n",
       "      <th>Comment</th>\n",
       "      <th>Lemmatized Words</th>\n",
       "      <th>Total Length</th>\n",
       "      <th>Positive count</th>\n",
       "      <th>Negative count</th>\n",
       "    </tr>\n",
       "  </thead>\n",
       "  <tbody>\n",
       "    <tr>\n",
       "      <th>0</th>\n",
       "      <td>1</td>\n",
       "      <td>How to Make a Great Linkedin - TIPS + EXAMPLES</td>\n",
       "      <td>2022-07-10</td>\n",
       "      <td>1577</td>\n",
       "      <td>106</td>\n",
       "      <td>The Sigma Male</td>\n",
       "      <td>really helpful session odia connection session...</td>\n",
       "      <td>[helpful, session, connection, session, alot, ...</td>\n",
       "      <td>11</td>\n",
       "      <td>3</td>\n",
       "      <td>0</td>\n",
       "    </tr>\n",
       "    <tr>\n",
       "      <th>1</th>\n",
       "      <td>1</td>\n",
       "      <td>How to Make a Great Linkedin - TIPS + EXAMPLES</td>\n",
       "      <td>2022-07-10</td>\n",
       "      <td>1577</td>\n",
       "      <td>106</td>\n",
       "      <td>Sagar Verma</td>\n",
       "      <td>hello sir make video project portfolio creatio...</td>\n",
       "      <td>[sir, video, project, portfolio, creation, ana...</td>\n",
       "      <td>7</td>\n",
       "      <td>0</td>\n",
       "      <td>0</td>\n",
       "    </tr>\n",
       "    <tr>\n",
       "      <th>2</th>\n",
       "      <td>1</td>\n",
       "      <td>How to Make a Great Linkedin - TIPS + EXAMPLES</td>\n",
       "      <td>2022-07-10</td>\n",
       "      <td>1577</td>\n",
       "      <td>106</td>\n",
       "      <td>Charan Sai Annam</td>\n",
       "      <td>hi please make video deploying streamlit appli...</td>\n",
       "      <td>[video, application, aw]</td>\n",
       "      <td>3</td>\n",
       "      <td>0</td>\n",
       "      <td>0</td>\n",
       "    </tr>\n",
       "    <tr>\n",
       "      <th>3</th>\n",
       "      <td>1</td>\n",
       "      <td>How to Make a Great Linkedin - TIPS + EXAMPLES</td>\n",
       "      <td>2022-07-10</td>\n",
       "      <td>1577</td>\n",
       "      <td>106</td>\n",
       "      <td>Samadhan Chavan</td>\n",
       "      <td>helpful session</td>\n",
       "      <td>[helpful, session]</td>\n",
       "      <td>2</td>\n",
       "      <td>1</td>\n",
       "      <td>0</td>\n",
       "    </tr>\n",
       "    <tr>\n",
       "      <th>4</th>\n",
       "      <td>1</td>\n",
       "      <td>How to Make a Great Linkedin - TIPS + EXAMPLES</td>\n",
       "      <td>2022-07-10</td>\n",
       "      <td>1577</td>\n",
       "      <td>106</td>\n",
       "      <td>Sasidhar Kuchibhotla</td>\n",
       "      <td>hi satyajit  pls share files would help us pra...</td>\n",
       "      <td>[share, file, thank, session]</td>\n",
       "      <td>4</td>\n",
       "      <td>1</td>\n",
       "      <td>0</td>\n",
       "    </tr>\n",
       "  </tbody>\n",
       "</table>\n",
       "</div>"
      ],
      "text/plain": [
       "   Video Number                                           Title  \\\n",
       "0             1  How to Make a Great Linkedin - TIPS + EXAMPLES   \n",
       "1             1  How to Make a Great Linkedin - TIPS + EXAMPLES   \n",
       "2             1  How to Make a Great Linkedin - TIPS + EXAMPLES   \n",
       "3             1  How to Make a Great Linkedin - TIPS + EXAMPLES   \n",
       "4             1  How to Make a Great Linkedin - TIPS + EXAMPLES   \n",
       "\n",
       "  Date Published  Views  Likes                Auther  \\\n",
       "0     2022-07-10   1577    106        The Sigma Male   \n",
       "1     2022-07-10   1577    106           Sagar Verma   \n",
       "2     2022-07-10   1577    106      Charan Sai Annam   \n",
       "3     2022-07-10   1577    106       Samadhan Chavan   \n",
       "4     2022-07-10   1577    106  Sasidhar Kuchibhotla   \n",
       "\n",
       "                                             Comment  \\\n",
       "0  really helpful session odia connection session...   \n",
       "1  hello sir make video project portfolio creatio...   \n",
       "2  hi please make video deploying streamlit appli...   \n",
       "3                                   helpful session    \n",
       "4  hi satyajit  pls share files would help us pra...   \n",
       "\n",
       "                                    Lemmatized Words  Total Length  \\\n",
       "0  [helpful, session, connection, session, alot, ...            11   \n",
       "1  [sir, video, project, portfolio, creation, ana...             7   \n",
       "2                           [video, application, aw]             3   \n",
       "3                                 [helpful, session]             2   \n",
       "4                      [share, file, thank, session]             4   \n",
       "\n",
       "   Positive count  Negative count  \n",
       "0               3               0  \n",
       "1               0               0  \n",
       "2               0               0  \n",
       "3               1               0  \n",
       "4               1               0  "
      ]
     },
     "execution_count": 114,
     "metadata": {},
     "output_type": "execute_result"
    }
   ],
   "source": [
    "comments_df['Positive count'] = comments_df['Lemmatized Words'].apply(count_pos)\n",
    "comments_df['Negative count'] = comments_df['Lemmatized Words'].apply(count_neg)\n",
    "comments_df.head()"
   ]
  },
  {
   "cell_type": "markdown",
   "id": "02271d33",
   "metadata": {},
   "source": [
    "### Calculating the final sentiment score"
   ]
  },
  {
   "cell_type": "code",
   "execution_count": 115,
   "id": "678d693b",
   "metadata": {},
   "outputs": [
    {
     "data": {
      "text/html": [
       "<div>\n",
       "<style scoped>\n",
       "    .dataframe tbody tr th:only-of-type {\n",
       "        vertical-align: middle;\n",
       "    }\n",
       "\n",
       "    .dataframe tbody tr th {\n",
       "        vertical-align: top;\n",
       "    }\n",
       "\n",
       "    .dataframe thead th {\n",
       "        text-align: right;\n",
       "    }\n",
       "</style>\n",
       "<table border=\"1\" class=\"dataframe\">\n",
       "  <thead>\n",
       "    <tr style=\"text-align: right;\">\n",
       "      <th></th>\n",
       "      <th>Video Number</th>\n",
       "      <th>Title</th>\n",
       "      <th>Date Published</th>\n",
       "      <th>Views</th>\n",
       "      <th>Likes</th>\n",
       "      <th>Auther</th>\n",
       "      <th>Comment</th>\n",
       "      <th>Lemmatized Words</th>\n",
       "      <th>Total Length</th>\n",
       "      <th>Positive count</th>\n",
       "      <th>Negative count</th>\n",
       "      <th>Sentiment</th>\n",
       "    </tr>\n",
       "  </thead>\n",
       "  <tbody>\n",
       "    <tr>\n",
       "      <th>0</th>\n",
       "      <td>1</td>\n",
       "      <td>How to Make a Great Linkedin - TIPS + EXAMPLES</td>\n",
       "      <td>2022-07-10</td>\n",
       "      <td>1577</td>\n",
       "      <td>106</td>\n",
       "      <td>The Sigma Male</td>\n",
       "      <td>really helpful session odia connection session...</td>\n",
       "      <td>[helpful, session, connection, session, alot, ...</td>\n",
       "      <td>11</td>\n",
       "      <td>3</td>\n",
       "      <td>0</td>\n",
       "      <td>0.27</td>\n",
       "    </tr>\n",
       "    <tr>\n",
       "      <th>1</th>\n",
       "      <td>1</td>\n",
       "      <td>How to Make a Great Linkedin - TIPS + EXAMPLES</td>\n",
       "      <td>2022-07-10</td>\n",
       "      <td>1577</td>\n",
       "      <td>106</td>\n",
       "      <td>Sagar Verma</td>\n",
       "      <td>hello sir make video project portfolio creatio...</td>\n",
       "      <td>[sir, video, project, portfolio, creation, ana...</td>\n",
       "      <td>7</td>\n",
       "      <td>0</td>\n",
       "      <td>0</td>\n",
       "      <td>0.00</td>\n",
       "    </tr>\n",
       "    <tr>\n",
       "      <th>2</th>\n",
       "      <td>1</td>\n",
       "      <td>How to Make a Great Linkedin - TIPS + EXAMPLES</td>\n",
       "      <td>2022-07-10</td>\n",
       "      <td>1577</td>\n",
       "      <td>106</td>\n",
       "      <td>Charan Sai Annam</td>\n",
       "      <td>hi please make video deploying streamlit appli...</td>\n",
       "      <td>[video, application, aw]</td>\n",
       "      <td>3</td>\n",
       "      <td>0</td>\n",
       "      <td>0</td>\n",
       "      <td>0.00</td>\n",
       "    </tr>\n",
       "    <tr>\n",
       "      <th>3</th>\n",
       "      <td>1</td>\n",
       "      <td>How to Make a Great Linkedin - TIPS + EXAMPLES</td>\n",
       "      <td>2022-07-10</td>\n",
       "      <td>1577</td>\n",
       "      <td>106</td>\n",
       "      <td>Samadhan Chavan</td>\n",
       "      <td>helpful session</td>\n",
       "      <td>[helpful, session]</td>\n",
       "      <td>2</td>\n",
       "      <td>1</td>\n",
       "      <td>0</td>\n",
       "      <td>0.50</td>\n",
       "    </tr>\n",
       "    <tr>\n",
       "      <th>4</th>\n",
       "      <td>1</td>\n",
       "      <td>How to Make a Great Linkedin - TIPS + EXAMPLES</td>\n",
       "      <td>2022-07-10</td>\n",
       "      <td>1577</td>\n",
       "      <td>106</td>\n",
       "      <td>Sasidhar Kuchibhotla</td>\n",
       "      <td>hi satyajit  pls share files would help us pra...</td>\n",
       "      <td>[share, file, thank, session]</td>\n",
       "      <td>4</td>\n",
       "      <td>1</td>\n",
       "      <td>0</td>\n",
       "      <td>0.25</td>\n",
       "    </tr>\n",
       "  </tbody>\n",
       "</table>\n",
       "</div>"
      ],
      "text/plain": [
       "   Video Number                                           Title  \\\n",
       "0             1  How to Make a Great Linkedin - TIPS + EXAMPLES   \n",
       "1             1  How to Make a Great Linkedin - TIPS + EXAMPLES   \n",
       "2             1  How to Make a Great Linkedin - TIPS + EXAMPLES   \n",
       "3             1  How to Make a Great Linkedin - TIPS + EXAMPLES   \n",
       "4             1  How to Make a Great Linkedin - TIPS + EXAMPLES   \n",
       "\n",
       "  Date Published  Views  Likes                Auther  \\\n",
       "0     2022-07-10   1577    106        The Sigma Male   \n",
       "1     2022-07-10   1577    106           Sagar Verma   \n",
       "2     2022-07-10   1577    106      Charan Sai Annam   \n",
       "3     2022-07-10   1577    106       Samadhan Chavan   \n",
       "4     2022-07-10   1577    106  Sasidhar Kuchibhotla   \n",
       "\n",
       "                                             Comment  \\\n",
       "0  really helpful session odia connection session...   \n",
       "1  hello sir make video project portfolio creatio...   \n",
       "2  hi please make video deploying streamlit appli...   \n",
       "3                                   helpful session    \n",
       "4  hi satyajit  pls share files would help us pra...   \n",
       "\n",
       "                                    Lemmatized Words  Total Length  \\\n",
       "0  [helpful, session, connection, session, alot, ...            11   \n",
       "1  [sir, video, project, portfolio, creation, ana...             7   \n",
       "2                           [video, application, aw]             3   \n",
       "3                                 [helpful, session]             2   \n",
       "4                      [share, file, thank, session]             4   \n",
       "\n",
       "   Positive count  Negative count  Sentiment  \n",
       "0               3               0       0.27  \n",
       "1               0               0       0.00  \n",
       "2               0               0       0.00  \n",
       "3               1               0       0.50  \n",
       "4               1               0       0.25  "
      ]
     },
     "execution_count": 115,
     "metadata": {},
     "output_type": "execute_result"
    }
   ],
   "source": [
    "comments_df['Sentiment'] = round(((comments_df['Positive count'] - comments_df['Negative count']) / comments_df['Total Length']), 2)\n",
    "comments_df.head()"
   ]
  },
  {
   "cell_type": "markdown",
   "id": "7681960d",
   "metadata": {},
   "source": [
    "### Top Positive Reviews"
   ]
  },
  {
   "cell_type": "code",
   "execution_count": 116,
   "id": "196dc64b",
   "metadata": {},
   "outputs": [
    {
     "data": {
      "text/html": [
       "<div>\n",
       "<style scoped>\n",
       "    .dataframe tbody tr th:only-of-type {\n",
       "        vertical-align: middle;\n",
       "    }\n",
       "\n",
       "    .dataframe tbody tr th {\n",
       "        vertical-align: top;\n",
       "    }\n",
       "\n",
       "    .dataframe thead th {\n",
       "        text-align: right;\n",
       "    }\n",
       "</style>\n",
       "<table border=\"1\" class=\"dataframe\">\n",
       "  <thead>\n",
       "    <tr style=\"text-align: right;\">\n",
       "      <th></th>\n",
       "      <th>Comment</th>\n",
       "      <th>Lemmatized Words</th>\n",
       "      <th>Positive count</th>\n",
       "      <th>Sentiment</th>\n",
       "    </tr>\n",
       "  </thead>\n",
       "  <tbody>\n",
       "    <tr>\n",
       "      <th>105</th>\n",
       "      <td>good afternoon great video  always nice people...</td>\n",
       "      <td>[good, afternoon, great, video, nice, people, ...</td>\n",
       "      <td>6</td>\n",
       "      <td>0.50</td>\n",
       "    </tr>\n",
       "    <tr>\n",
       "      <th>181</th>\n",
       "      <td>thanks sharing infolooking forward indepth suc...</td>\n",
       "      <td>[thank, indepth, success, storyi, fond, teachi...</td>\n",
       "      <td>5</td>\n",
       "      <td>0.36</td>\n",
       "    </tr>\n",
       "    <tr>\n",
       "      <th>123</th>\n",
       "      <td>bhai jay jagannath accountant year experience ...</td>\n",
       "      <td>[accountant, year, experience, good, hand, spe...</td>\n",
       "      <td>4</td>\n",
       "      <td>0.36</td>\n",
       "    </tr>\n",
       "    <tr>\n",
       "      <th>135</th>\n",
       "      <td>great video sayajit glad found channel today l...</td>\n",
       "      <td>[great, video, sayajit, channel, today, lot, g...</td>\n",
       "      <td>4</td>\n",
       "      <td>0.40</td>\n",
       "    </tr>\n",
       "    <tr>\n",
       "      <th>36</th>\n",
       "      <td>great video sir highly appreciated keep great ...</td>\n",
       "      <td>[great, video, sir, appreciated, great, work]</td>\n",
       "      <td>4</td>\n",
       "      <td>0.67</td>\n",
       "    </tr>\n",
       "    <tr>\n",
       "      <th>...</th>\n",
       "      <td>...</td>\n",
       "      <td>...</td>\n",
       "      <td>...</td>\n",
       "      <td>...</td>\n",
       "    </tr>\n",
       "    <tr>\n",
       "      <th>52</th>\n",
       "      <td>whatsapp full join</td>\n",
       "      <td>[whatsapp, full, join]</td>\n",
       "      <td>0</td>\n",
       "      <td>0.00</td>\n",
       "    </tr>\n",
       "    <tr>\n",
       "      <th>117</th>\n",
       "      <td>stats bhot puchte hai higher level p</td>\n",
       "      <td>[bhot, high, level, p]</td>\n",
       "      <td>0</td>\n",
       "      <td>0.00</td>\n",
       "    </tr>\n",
       "    <tr>\n",
       "      <th>116</th>\n",
       "      <td>bhai madi chalo</td>\n",
       "      <td>[]</td>\n",
       "      <td>0</td>\n",
       "      <td>NaN</td>\n",
       "    </tr>\n",
       "    <tr>\n",
       "      <th>115</th>\n",
       "      <td>live session done</td>\n",
       "      <td>[live, session]</td>\n",
       "      <td>0</td>\n",
       "      <td>0.00</td>\n",
       "    </tr>\n",
       "    <tr>\n",
       "      <th>200</th>\n",
       "      <td>sir earning crores hong kong talking like</td>\n",
       "      <td>[sir, crore]</td>\n",
       "      <td>0</td>\n",
       "      <td>0.00</td>\n",
       "    </tr>\n",
       "  </tbody>\n",
       "</table>\n",
       "<p>198 rows × 4 columns</p>\n",
       "</div>"
      ],
      "text/plain": [
       "                                               Comment  \\\n",
       "105  good afternoon great video  always nice people...   \n",
       "181  thanks sharing infolooking forward indepth suc...   \n",
       "123  bhai jay jagannath accountant year experience ...   \n",
       "135  great video sayajit glad found channel today l...   \n",
       "36   great video sir highly appreciated keep great ...   \n",
       "..                                                 ...   \n",
       "52                                 whatsapp full join    \n",
       "117              stats bhot puchte hai higher level p    \n",
       "116                                   bhai madi chalo    \n",
       "115                                 live session done    \n",
       "200         sir earning crores hong kong talking like    \n",
       "\n",
       "                                      Lemmatized Words  Positive count  \\\n",
       "105  [good, afternoon, great, video, nice, people, ...               6   \n",
       "181  [thank, indepth, success, storyi, fond, teachi...               5   \n",
       "123  [accountant, year, experience, good, hand, spe...               4   \n",
       "135  [great, video, sayajit, channel, today, lot, g...               4   \n",
       "36       [great, video, sir, appreciated, great, work]               4   \n",
       "..                                                 ...             ...   \n",
       "52                              [whatsapp, full, join]               0   \n",
       "117                             [bhot, high, level, p]               0   \n",
       "116                                                 []               0   \n",
       "115                                    [live, session]               0   \n",
       "200                                       [sir, crore]               0   \n",
       "\n",
       "     Sentiment  \n",
       "105       0.50  \n",
       "181       0.36  \n",
       "123       0.36  \n",
       "135       0.40  \n",
       "36        0.67  \n",
       "..         ...  \n",
       "52        0.00  \n",
       "117       0.00  \n",
       "116        NaN  \n",
       "115       0.00  \n",
       "200       0.00  \n",
       "\n",
       "[198 rows x 4 columns]"
      ]
     },
     "execution_count": 116,
     "metadata": {},
     "output_type": "execute_result"
    }
   ],
   "source": [
    "comments_df.sort_values(by='Positive count', ascending=False)[['Comment', 'Lemmatized Words', 'Positive count', 'Sentiment']]"
   ]
  },
  {
   "cell_type": "markdown",
   "id": "5f3ac022",
   "metadata": {},
   "source": [
    "### Top Negative Reviews"
   ]
  },
  {
   "cell_type": "code",
   "execution_count": 117,
   "id": "a7552d99",
   "metadata": {},
   "outputs": [
    {
     "data": {
      "text/html": [
       "<div>\n",
       "<style scoped>\n",
       "    .dataframe tbody tr th:only-of-type {\n",
       "        vertical-align: middle;\n",
       "    }\n",
       "\n",
       "    .dataframe tbody tr th {\n",
       "        vertical-align: top;\n",
       "    }\n",
       "\n",
       "    .dataframe thead th {\n",
       "        text-align: right;\n",
       "    }\n",
       "</style>\n",
       "<table border=\"1\" class=\"dataframe\">\n",
       "  <thead>\n",
       "    <tr style=\"text-align: right;\">\n",
       "      <th></th>\n",
       "      <th>Comment</th>\n",
       "      <th>Lemmatized Words</th>\n",
       "      <th>Negative count</th>\n",
       "      <th>Sentiment</th>\n",
       "    </tr>\n",
       "  </thead>\n",
       "  <tbody>\n",
       "    <tr>\n",
       "      <th>184</th>\n",
       "      <td>well said friend patient approach really criti...</td>\n",
       "      <td>[friend, approach, critical, job, agile, proce...</td>\n",
       "      <td>3</td>\n",
       "      <td>-0.05</td>\n",
       "    </tr>\n",
       "    <tr>\n",
       "      <th>82</th>\n",
       "      <td>wish waste much money simplilearn course way t...</td>\n",
       "      <td>[waste, much, money, course, way, voice, clear...</td>\n",
       "      <td>2</td>\n",
       "      <td>-0.06</td>\n",
       "    </tr>\n",
       "    <tr>\n",
       "      <th>104</th>\n",
       "      <td>videos great helpful brush understanding used ...</td>\n",
       "      <td>[video, great, helpful, brush, understanding, ...</td>\n",
       "      <td>1</td>\n",
       "      <td>0.05</td>\n",
       "    </tr>\n",
       "    <tr>\n",
       "      <th>145</th>\n",
       "      <td>dataset would want show us complete end end da...</td>\n",
       "      <td>[dataset, complete, end, end, datum, dashboard...</td>\n",
       "      <td>1</td>\n",
       "      <td>-0.14</td>\n",
       "    </tr>\n",
       "    <tr>\n",
       "      <th>50</th>\n",
       "      <td>able create table getting error</td>\n",
       "      <td>[able, create, table, error]</td>\n",
       "      <td>1</td>\n",
       "      <td>-0.25</td>\n",
       "    </tr>\n",
       "    <tr>\n",
       "      <th>...</th>\n",
       "      <td>...</td>\n",
       "      <td>...</td>\n",
       "      <td>...</td>\n",
       "      <td>...</td>\n",
       "    </tr>\n",
       "    <tr>\n",
       "      <th>71</th>\n",
       "      <td>thanks content learnt lot</td>\n",
       "      <td>[thank, lot]</td>\n",
       "      <td>0</td>\n",
       "      <td>0.50</td>\n",
       "    </tr>\n",
       "    <tr>\n",
       "      <th>72</th>\n",
       "      <td>hello sir able find dataset description well s...</td>\n",
       "      <td>[sir, able, dataset, description, well, submis...</td>\n",
       "      <td>0</td>\n",
       "      <td>0.14</td>\n",
       "    </tr>\n",
       "    <tr>\n",
       "      <th>73</th>\n",
       "      <td>find link dataset google form sir request upda...</td>\n",
       "      <td>[link, sir, request, update, sir]</td>\n",
       "      <td>0</td>\n",
       "      <td>0.00</td>\n",
       "    </tr>\n",
       "    <tr>\n",
       "      <th>74</th>\n",
       "      <td>yes got much know power bi videos</td>\n",
       "      <td>[much, power, video]</td>\n",
       "      <td>0</td>\n",
       "      <td>0.00</td>\n",
       "    </tr>\n",
       "    <tr>\n",
       "      <th>200</th>\n",
       "      <td>sir earning crores hong kong talking like</td>\n",
       "      <td>[sir, crore]</td>\n",
       "      <td>0</td>\n",
       "      <td>0.00</td>\n",
       "    </tr>\n",
       "  </tbody>\n",
       "</table>\n",
       "<p>198 rows × 4 columns</p>\n",
       "</div>"
      ],
      "text/plain": [
       "                                               Comment  \\\n",
       "184  well said friend patient approach really criti...   \n",
       "82   wish waste much money simplilearn course way t...   \n",
       "104  videos great helpful brush understanding used ...   \n",
       "145  dataset would want show us complete end end da...   \n",
       "50                    able create table getting error    \n",
       "..                                                 ...   \n",
       "71                          thanks content learnt lot    \n",
       "72   hello sir able find dataset description well s...   \n",
       "73   find link dataset google form sir request upda...   \n",
       "74                  yes got much know power bi videos    \n",
       "200         sir earning crores hong kong talking like    \n",
       "\n",
       "                                      Lemmatized Words  Negative count  \\\n",
       "184  [friend, approach, critical, job, agile, proce...               3   \n",
       "82   [waste, much, money, course, way, voice, clear...               2   \n",
       "104  [video, great, helpful, brush, understanding, ...               1   \n",
       "145  [dataset, complete, end, end, datum, dashboard...               1   \n",
       "50                        [able, create, table, error]               1   \n",
       "..                                                 ...             ...   \n",
       "71                                        [thank, lot]               0   \n",
       "72   [sir, able, dataset, description, well, submis...               0   \n",
       "73                   [link, sir, request, update, sir]               0   \n",
       "74                                [much, power, video]               0   \n",
       "200                                       [sir, crore]               0   \n",
       "\n",
       "     Sentiment  \n",
       "184      -0.05  \n",
       "82       -0.06  \n",
       "104       0.05  \n",
       "145      -0.14  \n",
       "50       -0.25  \n",
       "..         ...  \n",
       "71        0.50  \n",
       "72        0.14  \n",
       "73        0.00  \n",
       "74        0.00  \n",
       "200       0.00  \n",
       "\n",
       "[198 rows x 4 columns]"
      ]
     },
     "execution_count": 117,
     "metadata": {},
     "output_type": "execute_result"
    }
   ],
   "source": [
    "comments_df.sort_values(by='Negative count', ascending=False)[['Comment', 'Lemmatized Words', 'Negative count', 'Sentiment']]"
   ]
  },
  {
   "cell_type": "markdown",
   "id": "8451bbe5",
   "metadata": {},
   "source": [
    "### Building LDA Model"
   ]
  },
  {
   "cell_type": "code",
   "execution_count": 118,
   "id": "8b0df534",
   "metadata": {},
   "outputs": [],
   "source": [
    "from gensim import corpora\n",
    "\n",
    "# Building word dictionary and Document term matrix\n",
    "dictionary = corpora.Dictionary(lemmatized_words)\n",
    "doc_term_matrix = [dictionary.doc2bow(i) for i in lemmatized_words]"
   ]
  },
  {
   "cell_type": "code",
   "execution_count": 122,
   "id": "5a819edd",
   "metadata": {},
   "outputs": [
    {
     "data": {
      "text/plain": [
       "[(0,\n",
       "  '0.050*\"video\" + 0.048*\"datum\" + 0.030*\"sir\" + 0.027*\"thank\" + 0.023*\"much\" + 0.016*\"dashboard\" + 0.016*\"class\" + 0.014*\"good\" + 0.014*\"lot\" + 0.012*\"great\"'),\n",
       " (1,\n",
       "  '0.057*\"session\" + 0.055*\"sir\" + 0.037*\"great\" + 0.023*\"datum\" + 0.019*\"video\" + 0.018*\"analyst\" + 0.018*\"helpful\" + 0.018*\"sql\" + 0.014*\"job\" + 0.013*\"dashboard\"'),\n",
       " (2,\n",
       "  '0.035*\"explanation\" + 0.031*\"good\" + 0.025*\"file\" + 0.021*\"session\" + 0.017*\"sir\" + 0.016*\"job\" + 0.016*\"sql\" + 0.016*\"content\" + 0.011*\"description\" + 0.011*\"clear\"'),\n",
       " (3,\n",
       "  '0.046*\"sir\" + 0.038*\"thank\" + 0.032*\"course\" + 0.028*\"power\" + 0.025*\"youtube\" + 0.017*\"lot\" + 0.011*\"bi\" + 0.011*\"analytic\" + 0.011*\"free\" + 0.010*\"available\"'),\n",
       " (4,\n",
       "  '0.045*\"sir\" + 0.035*\"video\" + 0.031*\"much\" + 0.018*\"thank\" + 0.018*\"detailed\" + 0.015*\"way\" + 0.014*\"sql\" + 0.012*\"job\" + 0.012*\"full\" + 0.011*\"amazing\"')]"
      ]
     },
     "execution_count": 122,
     "metadata": {},
     "output_type": "execute_result"
    }
   ],
   "source": [
    "from gensim.models.ldamodel import LdaModel\n",
    "\n",
    "lda_model = LdaModel(corpus=doc_term_matrix,\n",
    "                     id2word=dictionary,\n",
    "                     num_topics=5,\n",
    "                     random_state=10,\n",
    "                     chunksize=500,\n",
    "                     passes=10,\n",
    "                     iterations=100)\n",
    "lda_model.print_topics()"
   ]
  },
  {
   "cell_type": "markdown",
   "id": "263b4caf",
   "metadata": {},
   "source": [
    "### Topic Visualization"
   ]
  },
  {
   "cell_type": "code",
   "execution_count": 123,
   "id": "9f1a4be6",
   "metadata": {},
   "outputs": [
    {
     "name": "stderr",
     "output_type": "stream",
     "text": [
      "c:\\users\\anike\\appdata\\local\\programs\\python\\python38\\lib\\site-packages\\pyLDAvis\\_prepare.py:246: FutureWarning: In a future version of pandas all arguments of DataFrame.drop except for the argument 'labels' will be keyword-only.\n",
      "  default_term_info = default_term_info.sort_values(\n"
     ]
    },
    {
     "data": {
      "text/html": [
       "\n",
       "<link rel=\"stylesheet\" type=\"text/css\" href=\"https://cdn.jsdelivr.net/gh/bmabey/pyLDAvis@3.3.1/pyLDAvis/js/ldavis.v1.0.0.css\">\n",
       "\n",
       "\n",
       "<div id=\"ldavis_el163802469638304032471250140\"></div>\n",
       "<script type=\"text/javascript\">\n",
       "\n",
       "var ldavis_el163802469638304032471250140_data = {\"mdsDat\": {\"x\": [0.07663283640532889, 0.09691322450339525, -0.016430161431564297, -0.11926545760983648, -0.037850441867323385], \"y\": [-0.07007571537792352, 0.06447363636064316, -0.08448242627061747, -0.014044476387249082, 0.10412898167514699], \"topics\": [1, 2, 3, 4, 5], \"cluster\": [1, 1, 1, 1, 1], \"Freq\": [28.95100449322896, 25.690623841920452, 17.870631103930975, 16.924471964402642, 10.563268596516973]}, \"tinfo\": {\"Term\": [\"session\", \"datum\", \"explanation\", \"good\", \"youtube\", \"great\", \"much\", \"power\", \"file\", \"video\", \"course\", \"thank\", \"detailed\", \"sql\", \"helpful\", \"content\", \"analyst\", \"job\", \"dashboard\", \"lot\", \"developer\", \"available\", \"sir\", \"basic\", \"study\", \"crore\", \"full\", \"hku\", \"private\", \"nice\", \"long\", \"love\", \"ad\", \"flow\", \"cash\", \"insight\", \"creation\", \"page\", \"nd\", \"community\", \"information\", \"word\", \"respect\", \"congratulation\", \"problem\", \"help\", \"satyajit\", \"datum\", \"part\", \"dataset\", \"powerbi\", \"project\", \"note\", \"understanding\", \"financial\", \"less\", \"lengthy\", \"revenue\", \"membersyour\", \"numerous\", \"class\", \"video\", \"dashboard\", \"day\", \"much\", \"column\", \"different\", \"business\", \"science\", \"live\", \"thank\", \"lot\", \"informative\", \"good\", \"sir\", \"analyst\", \"question\", \"great\", \"analytic\", \"course\", \"job\", \"opportunity\", \"role\", \"session\", \"stock\", \"country\", \"transition\", \"helpful\", \"front\", \"top\", \"intermediate\", \"database\", \"aspect\", \"interesting\", \"alot\", \"advance\", \"career\", \"contest\", \"end\", \"great\", \"instruction\", \"family\", \"condition\", \"accenture\", \"comment\", \"price\", \"preferred\", \"father\", \"focused\", \"huge\", \"scale\", \"apple\", \"name\", \"analyst\", \"developer\", \"work\", \"request\", \"u\", \"table\", \"dear\", \"experience\", \"sql\", \"people\", \"sir\", \"level\", \"job\", \"dashboard\", \"datum\", \"analytic\", \"video\", \"informative\", \"good\", \"course\", \"lot\", \"thank\", \"class\", \"topic\", \"detailed\", \"crore\", \"simple\", \"resume\", \"bhi\", \"length\", \"varchar\", \"friend\", \"well\", \"access\", \"slide\", \"awesome\", \"nontech\", \"look\", \"process\", \"approach\", \"communication\", \"pain\", \"pathway\", \"critical\", \"improvement\", \"aspirant\", \"follow\", \"agile\", \"letter\", \"person\", \"tech\", \"mannerthank\", \"international\", \"clarity\", \"full\", \"way\", \"amazing\", \"thing\", \"much\", \"brother\", \"background\", \"case\", \"developer\", \"video\", \"sir\", \"sql\", \"easy\", \"job\", \"data\", \"thank\", \"people\", \"course\", \"youtube\", \"bar\", \"report\", \"adjacent\", \"cell\", \"lesson\", \"free\", \"available\", \"predictive\", \"kie\", \"bnao\", \"confident\", \"resoruce\", \"ytber\", \"journey\", \"export\", \"isse\", \"boot\", \"coating\", \"visible\", \"solve\", \"udemy\", \"concept\", \"area\", \"camp\", \"sugar\", \"synapse\", \"issue\", \"bachelor\", \"organizational\", \"power\", \"time\", \"course\", \"new\", \"bi\", \"interested\", \"difference\", \"vedio\", \"thank\", \"lot\", \"sir\", \"field\", \"channel\", \"table\", \"analytic\", \"day\", \"project\", \"video\", \"class\", \"great\", \"sql\", \"submission\", \"explanation\", \"hku\", \"private\", \"file\", \"budget\", \"confidence\", \"low\", \"college\", \"senior\", \"tea\", \"geep\", \"precise\", \"cup\", \"thati\", \"walkthrough\", \"keep\", \"single\", \"simultaneous\", \"magic\", \"fresh\", \"scope\", \"strategy\", \"game\", \"remote\", \"high\", \"jupyter\", \"bhot\", \"janeman\", \"programmer\", \"p\", \"content\", \"basic\", \"study\", \"hope\", \"good\", \"clear\", \"nice\", \"job\", \"description\", \"sql\", \"session\", \"power\", \"sir\", \"available\", \"thank\", \"knowledge\", \"work\", \"informative\", \"able\", \"class\", \"possible\", \"week\", \"year\", \"level\", \"valuable\", \"interview\"], \"Freq\": [20.0, 23.0, 5.0, 11.0, 5.0, 16.0, 16.0, 9.0, 5.0, 31.0, 12.0, 23.0, 4.0, 11.0, 6.0, 4.0, 9.0, 10.0, 9.0, 10.0, 5.0, 3.0, 46.0, 2.0, 2.0, 2.0, 4.0, 1.0, 1.0, 3.0, 2.454675563079404, 3.9896466262277315, 1.687570637859233, 1.687568764489156, 1.6875670472332518, 1.6875633004930977, 1.6875419128513844, 1.6875302042884026, 1.6875280186899795, 1.6875227108080944, 1.6875197446388057, 1.6875174029262094, 1.6875067871624392, 1.687446995434146, 1.687438565268799, 3.222041355082808, 3.224846414544883, 16.144188771927162, 2.4564485517431836, 3.990727248533858, 2.4540532919854687, 3.2199634754389845, 0.9204609511567826, 0.9204609511567826, 0.9204601705859172, 0.9204601705859172, 0.9204600144717441, 0.9204596241863114, 0.9204594680721383, 0.9204587655583594, 5.3693933670729965, 16.721035637147043, 5.527063061783335, 2.456198612952067, 7.672070551122063, 2.455522014125896, 1.6875156856703053, 1.6874476198908384, 3.0749574502213335, 2.408615637451027, 9.181100746584772, 4.72839981258726, 3.2220091955631514, 4.744514229761922, 9.988916657520749, 3.986754455057072, 2.4542882438159683, 3.9907522268015523, 3.0263335054141316, 1.829877136795817, 1.8060589535216987, 1.687985277102959, 1.6879826231620165, 16.949961155335643, 2.3676996740206833, 2.367688868444011, 2.364118595085136, 5.326058213146462, 1.627779360886467, 1.6277781140891587, 1.6277650919839386, 1.6277631525214589, 1.6277623213232535, 1.6277386321743954, 1.6277330908530252, 1.6276760152429113, 1.6227162555504369, 1.6219816148697712, 3.1090755537458397, 10.969469009433466, 0.8878503894376096, 0.8878501123715411, 0.8878487270411985, 0.8878482421755787, 0.8878481729090615, 0.8878465797791676, 0.8878451251823078, 0.8878445017836537, 0.8878442247175852, 0.8878435320524138, 0.8878429779202769, 0.8878426315876912, 0.8878422852551056, 5.329427336539595, 3.1067315748062088, 3.077845774767183, 1.6312548776499103, 2.3711438823183846, 2.3083722094348897, 1.628413426584262, 2.369066163870596, 5.26959381077966, 2.9533752288174804, 16.494949958450185, 1.4977148510134608, 4.206675000693751, 3.8435873986896225, 6.7911425776718914, 3.076484549172572, 5.5753550578778395, 2.364788263772735, 2.366641558705027, 2.362649313723805, 1.8883073557711398, 1.7711067463931838, 1.6482034246600323, 1.6299756636115799, 3.687398904207361, 2.2815722081780394, 2.188057073196874, 1.5686530101564753, 1.5686523356026238, 1.5686509864949212, 1.5686463609827976, 1.5686320989870832, 1.5686063695758956, 1.5669216231497045, 1.5622334738827484, 1.5606253375011048, 1.4128324195998807, 0.8556155724812512, 0.8556151870219075, 0.8556151870219075, 0.8556143197383843, 0.8556139342790408, 0.8556132597251893, 0.8556127779010099, 0.855612585171338, 0.8556122960768303, 0.8556120069823225, 0.8556114287933071, 0.8556109469691275, 0.855610465144948, 0.8556103687801121, 0.8556099833207684, 0.8556082487537221, 0.8556068996460194, 2.457038312371988, 3.111609373169548, 2.2851215178142272, 1.5691631655977758, 6.341816106269911, 1.519161572271164, 1.393375106487056, 1.4174401042288531, 2.2802539372228092, 7.2015939651085645, 9.310658662284723, 2.998830522030899, 1.441977675125946, 2.5274260794647483, 1.5699602955204122, 3.7230519661968455, 1.719797978874782, 2.137573270231375, 4.935514889701797, 1.5083467786067233, 1.5083444970365394, 1.5083348231789602, 1.5083289823592896, 1.5072565531101005, 2.196465243102655, 2.007101853821356, 0.8227201538027212, 0.8227184198093815, 0.8227167770788492, 0.8227164120276198, 0.8227163207648124, 0.8227158644507756, 0.8227152256111242, 0.8227149518227022, 0.8227142217202433, 0.8227139479318213, 0.8227136741433992, 0.8227133090921698, 0.8227134003549772, 0.8227134003549772, 0.8227134003549772, 0.8227134003549772, 0.8227132178293625, 0.8227123964640963, 0.8227118488872521, 0.8227108449963713, 0.8227097498426831, 0.822709202265839, 5.526536115572096, 1.5091471534271972, 6.323903644018146, 1.5072965262197207, 2.20025118940283, 1.5113094431217795, 1.508794696465205, 1.5099775537112898, 7.4903649791852125, 3.34843714739773, 9.051540146455507, 1.5085957435451784, 1.5107479943309523, 1.5632207318342746, 2.19715080931148, 1.5047618842711434, 1.5097905562190261, 1.612959326892149, 0.9390760350869266, 0.9536409403005973, 0.8704533399318506, 0.8242980877418311, 4.248923962620196, 1.3401469802055492, 1.3401452713778548, 3.042887830473479, 0.7309787293377825, 0.7309779888457816, 0.7309771913928574, 0.7309771344319344, 0.7309770774710111, 0.7309697864728479, 0.7309688181371543, 0.7309673941140755, 0.7309667675439209, 0.7309660270519199, 0.730961128412529, 0.7309603309596049, 0.7309585082100641, 0.7309556032029834, 0.7309547487891361, 0.7309540082971352, 0.7309519007429787, 0.7309517298602092, 0.7309460907288172, 0.7309431287608135, 0.7309425021906588, 0.7309407364020412, 0.7309406224801949, 0.7309398250272707, 0.7309386288478845, 0.730933103638339, 1.9198904713140634, 1.341761936298713, 1.3413725514280561, 1.2666893762577063, 3.7749063245024512, 1.3427530563615322, 1.320666230566223, 1.9534543535149722, 1.3472530832122702, 1.951056982181413, 2.5134770616540036, 1.342086271795132, 2.0873703952166305, 0.8959417778900204, 0.9087327519099332, 0.7335137752225968, 0.7332246985376077, 0.7330916947820513, 0.7330670307023271, 0.7328400983844954, 0.7325503381684287, 0.7325132566074577, 0.732276470049921, 0.7321063277724703, 0.7320645184548779, 0.7318467568456734], \"Total\": [20.0, 23.0, 5.0, 11.0, 5.0, 16.0, 16.0, 9.0, 5.0, 31.0, 12.0, 23.0, 4.0, 11.0, 6.0, 4.0, 9.0, 10.0, 9.0, 10.0, 5.0, 3.0, 46.0, 2.0, 2.0, 2.0, 4.0, 1.0, 1.0, 3.0, 3.004260915776852, 5.224164280217898, 2.2371498319299166, 2.2371494186864433, 2.2371493847344497, 2.2371481947358505, 2.2371440249044516, 2.237142321459821, 2.2371411740013536, 2.2371409714442914, 2.2371400089217843, 2.237139572522923, 2.2371386443854817, 2.237125222074545, 2.237127161199987, 4.484393553405562, 4.511349338666632, 23.462606844503412, 3.613784660995589, 5.991198844044838, 3.717216928902164, 5.142409365867623, 1.470033751507758, 1.4700337719131376, 1.470033535204909, 1.4700335547538397, 1.4700336295727847, 1.4700335387768084, 1.47003331868738, 1.4700334511515916, 8.832211082413602, 31.242022192815202, 9.772429777970103, 4.375412046996371, 16.146536507914224, 4.429794586939983, 2.9227462851312844, 2.9227401061569953, 5.926467450859621, 4.478749377365372, 23.074357190269946, 10.229741212476387, 6.599804661946577, 11.892189148571418, 46.933435819927794, 9.717869572792319, 5.197031765397929, 16.306350944057034, 8.77287484819221, 12.775924475592147, 10.636870551338818, 4.402565675424746, 3.6900023652682314, 20.158574941444307, 2.922729954771013, 2.9227273268886695, 2.922594614134365, 6.649143299506379, 2.1827978502311787, 2.1827973093747914, 2.1827954765462745, 2.1827959420117717, 2.182794849103658, 2.1827926671227798, 2.1827921535657535, 2.1827812847213286, 2.1826050847180984, 2.1825747989621322, 4.348370804765552, 16.306350944057034, 1.4428609303019713, 1.4428610014462937, 1.4428608940245862, 1.442860916166159, 1.442860822642733, 1.4428603770080626, 1.4428600787265962, 1.4428597957008156, 1.4428603476875472, 1.442859778390499, 1.442859855461097, 1.4428599893162426, 1.4428599012042205, 9.717869572792319, 5.8016609214640615, 5.749662488667977, 2.8686438509821657, 4.402908011719144, 4.289615043601626, 2.8958304421425574, 4.45683703201784, 11.243435925584222, 5.849984869820905, 46.933435819927794, 2.78223337602148, 10.636870551338818, 9.772429777970103, 23.462606844503412, 8.77287484819221, 31.242022192815202, 6.599804661946577, 11.892189148571418, 12.775924475592147, 10.229741212476387, 23.074357190269946, 8.832211082413602, 4.957517900653158, 4.268833940030084, 2.8420930466319896, 2.845508321077525, 2.1290499890366923, 2.129050364265604, 2.129050098725761, 2.1290497693533905, 2.1290491694457607, 2.129047046970974, 2.129089967274792, 2.129271812821976, 2.1295299124405234, 2.134876673718709, 1.4159966537354398, 1.4159966334214622, 1.4159967659370212, 1.4159965557948482, 1.4159966020552668, 1.415996524278098, 1.415996499973063, 1.4159963756309528, 1.415996521265316, 1.4159961095696174, 1.415996393437727, 1.4159964686917574, 1.4159960148227089, 1.4159959370729502, 1.4159960586627502, 1.4159958783034534, 1.4159954592698345, 4.315309813974337, 5.743216180903758, 4.345201716932639, 2.8960595513537744, 16.146536507914224, 2.8978779596328414, 2.82122911946746, 2.9017073335662387, 5.8016609214640615, 31.242022192815202, 46.933435819927794, 11.243435925584222, 3.6671005361959246, 10.636870551338818, 4.403045659963197, 23.074357190269946, 5.849984869820905, 12.775924475592147, 5.502405231584629, 2.0742294852310197, 2.074229404628278, 2.074228647379098, 2.074229246115668, 2.074284062329351, 3.5266203795818556, 3.3484319480685247, 1.3885867329627595, 1.3885868400099661, 1.3885868065775742, 1.3885864482306969, 1.3885865292500637, 1.3885864570842092, 1.3885865300691627, 1.388586146215442, 1.3885867379431673, 1.3885863884171645, 1.3885864835157464, 1.3885861950269018, 1.3885863790473048, 1.3885864732746638, 1.3885864997990887, 1.388586508106547, 1.388586240774619, 1.3885862377917364, 1.3885862959327613, 1.3885860639806022, 1.3885859129119416, 1.3885863618388916, 9.66336102567938, 2.6834773516003896, 12.775924475592147, 2.683277809801919, 4.266239154029044, 2.787115714284031, 2.787226273303112, 2.8139768774110885, 23.074357190269946, 10.229741212476387, 46.933435819927794, 3.5538674158999863, 3.580901815667839, 4.289615043601626, 8.77287484819221, 4.375412046996371, 5.142409365867623, 31.242022192815202, 8.832211082413602, 16.306350944057034, 11.243435925584222, 3.607311594141312, 5.763382465956147, 1.9213102131144553, 1.921310641658108, 5.233386027602135, 1.3121344622420918, 1.3121345681712497, 1.3121345582753743, 1.312134592505529, 1.3121345722784645, 1.3121352567861764, 1.3121353929309862, 1.3121356867973266, 1.3121355461835391, 1.312135800406538, 1.3121359688893353, 1.3121356663028292, 1.3121358635159153, 1.3121368262601922, 1.3121364928851915, 1.3121367201991205, 1.3121368111988303, 1.3121371824646353, 1.3121367727873348, 1.3121369689472582, 1.3121371931775136, 1.3121373817603956, 1.3121375541335478, 1.3121376984748865, 1.3121376542752532, 1.3121388921301138, 4.0139658360002, 2.6608396317062013, 2.6606101855159867, 2.6973647195720556, 11.892189148571418, 3.427666487360918, 3.37816350130875, 10.636870551338818, 4.852164474171634, 11.243435925584222, 20.158574941444307, 9.66336102567938, 46.933435819927794, 3.3484319480685247, 23.074357190269946, 4.298439950322727, 5.749662488667977, 6.599804661946577, 2.764554172838372, 8.832211082413602, 2.764374237493169, 2.05167403721595, 4.3258015563522765, 2.78223337602148, 3.5588210213244276, 2.764843556627643], \"Category\": [\"Default\", \"Default\", \"Default\", \"Default\", \"Default\", \"Default\", \"Default\", \"Default\", \"Default\", \"Default\", \"Default\", \"Default\", \"Default\", \"Default\", \"Default\", \"Default\", \"Default\", \"Default\", \"Default\", \"Default\", \"Default\", \"Default\", \"Default\", \"Default\", \"Default\", \"Default\", \"Default\", \"Default\", \"Default\", \"Default\", \"Topic1\", \"Topic1\", \"Topic1\", \"Topic1\", \"Topic1\", \"Topic1\", \"Topic1\", \"Topic1\", \"Topic1\", \"Topic1\", \"Topic1\", \"Topic1\", \"Topic1\", \"Topic1\", \"Topic1\", \"Topic1\", \"Topic1\", \"Topic1\", \"Topic1\", \"Topic1\", \"Topic1\", \"Topic1\", \"Topic1\", \"Topic1\", \"Topic1\", \"Topic1\", \"Topic1\", \"Topic1\", \"Topic1\", \"Topic1\", \"Topic1\", \"Topic1\", \"Topic1\", \"Topic1\", \"Topic1\", \"Topic1\", \"Topic1\", \"Topic1\", \"Topic1\", \"Topic1\", \"Topic1\", \"Topic1\", \"Topic1\", \"Topic1\", \"Topic1\", \"Topic1\", \"Topic1\", \"Topic1\", \"Topic1\", \"Topic1\", \"Topic1\", \"Topic1\", \"Topic1\", \"Topic2\", \"Topic2\", \"Topic2\", \"Topic2\", \"Topic2\", \"Topic2\", \"Topic2\", \"Topic2\", \"Topic2\", \"Topic2\", \"Topic2\", \"Topic2\", \"Topic2\", \"Topic2\", \"Topic2\", \"Topic2\", \"Topic2\", \"Topic2\", \"Topic2\", \"Topic2\", \"Topic2\", \"Topic2\", \"Topic2\", \"Topic2\", \"Topic2\", \"Topic2\", \"Topic2\", \"Topic2\", \"Topic2\", \"Topic2\", \"Topic2\", \"Topic2\", \"Topic2\", \"Topic2\", \"Topic2\", \"Topic2\", \"Topic2\", \"Topic2\", \"Topic2\", \"Topic2\", \"Topic2\", \"Topic2\", \"Topic2\", \"Topic2\", \"Topic2\", \"Topic2\", \"Topic2\", \"Topic2\", \"Topic2\", \"Topic2\", \"Topic2\", \"Topic2\", \"Topic2\", \"Topic2\", \"Topic3\", \"Topic3\", \"Topic3\", \"Topic3\", \"Topic3\", \"Topic3\", \"Topic3\", \"Topic3\", \"Topic3\", \"Topic3\", \"Topic3\", \"Topic3\", \"Topic3\", \"Topic3\", \"Topic3\", \"Topic3\", \"Topic3\", \"Topic3\", \"Topic3\", \"Topic3\", \"Topic3\", \"Topic3\", \"Topic3\", \"Topic3\", \"Topic3\", \"Topic3\", \"Topic3\", \"Topic3\", \"Topic3\", \"Topic3\", \"Topic3\", \"Topic3\", \"Topic3\", \"Topic3\", \"Topic3\", \"Topic3\", \"Topic3\", \"Topic3\", \"Topic3\", \"Topic3\", \"Topic3\", \"Topic3\", \"Topic3\", \"Topic3\", \"Topic3\", \"Topic3\", \"Topic3\", \"Topic3\", \"Topic4\", \"Topic4\", \"Topic4\", \"Topic4\", \"Topic4\", \"Topic4\", \"Topic4\", \"Topic4\", \"Topic4\", \"Topic4\", \"Topic4\", \"Topic4\", \"Topic4\", \"Topic4\", \"Topic4\", \"Topic4\", \"Topic4\", \"Topic4\", \"Topic4\", \"Topic4\", \"Topic4\", \"Topic4\", \"Topic4\", \"Topic4\", \"Topic4\", \"Topic4\", \"Topic4\", \"Topic4\", \"Topic4\", \"Topic4\", \"Topic4\", \"Topic4\", \"Topic4\", \"Topic4\", \"Topic4\", \"Topic4\", \"Topic4\", \"Topic4\", \"Topic4\", \"Topic4\", \"Topic4\", \"Topic4\", \"Topic4\", \"Topic4\", \"Topic4\", \"Topic4\", \"Topic4\", \"Topic4\", \"Topic4\", \"Topic4\", \"Topic4\", \"Topic4\", \"Topic5\", \"Topic5\", \"Topic5\", \"Topic5\", \"Topic5\", \"Topic5\", \"Topic5\", \"Topic5\", \"Topic5\", \"Topic5\", \"Topic5\", \"Topic5\", \"Topic5\", \"Topic5\", \"Topic5\", \"Topic5\", \"Topic5\", \"Topic5\", \"Topic5\", \"Topic5\", \"Topic5\", \"Topic5\", \"Topic5\", \"Topic5\", \"Topic5\", \"Topic5\", \"Topic5\", \"Topic5\", \"Topic5\", \"Topic5\", \"Topic5\", \"Topic5\", \"Topic5\", \"Topic5\", \"Topic5\", \"Topic5\", \"Topic5\", \"Topic5\", \"Topic5\", \"Topic5\", \"Topic5\", \"Topic5\", \"Topic5\", \"Topic5\", \"Topic5\", \"Topic5\", \"Topic5\", \"Topic5\", \"Topic5\", \"Topic5\", \"Topic5\", \"Topic5\", \"Topic5\", \"Topic5\", \"Topic5\", \"Topic5\"], \"logprob\": [30.0, 29.0, 28.0, 27.0, 26.0, 25.0, 24.0, 23.0, 22.0, 21.0, 20.0, 19.0, 18.0, 17.0, 16.0, 15.0, 14.0, 13.0, 12.0, 11.0, 10.0, 9.0, 8.0, 7.0, 6.0, 5.0, 4.0, 3.0, 2.0, 1.0, -4.9169, -4.4312, -5.2916, -5.2916, -5.2916, -5.2916, -5.2916, -5.2916, -5.2916, -5.2916, -5.2916, -5.2916, -5.2916, -5.2917, -5.2917, -4.6449, -4.644, -3.0333, -4.9162, -4.4309, -4.9171, -4.6455, -5.8978, -5.8978, -5.8978, -5.8978, -5.8978, -5.8978, -5.8978, -5.8978, -4.1342, -2.9982, -4.1052, -4.9163, -3.7773, -4.9165, -5.2916, -5.2917, -4.6916, -4.9358, -3.5977, -4.2613, -4.6449, -4.2579, -3.5134, -4.4319, -4.917, -4.4309, -4.7075, -5.2106, -5.2237, -5.2913, -5.2914, -2.8651, -4.8335, -4.8335, -4.835, -4.0228, -5.2082, -5.2082, -5.2082, -5.2082, -5.2082, -5.2082, -5.2082, -5.2083, -5.2113, -5.2118, -4.5611, -3.3003, -5.8144, -5.8144, -5.8144, -5.8144, -5.8144, -5.8144, -5.8144, -5.8144, -5.8144, -5.8144, -5.8144, -5.8144, -5.8144, -4.0222, -4.5618, -4.5712, -5.2061, -4.832, -4.8589, -5.2078, -4.8329, -4.0335, -4.6125, -2.8924, -5.2915, -4.2587, -4.349, -3.7798, -4.5716, -3.977, -4.8347, -4.8339, -4.8356, -5.0597, -5.1238, -5.1957, -5.2068, -4.0275, -4.5076, -4.5494, -4.8822, -4.8822, -4.8822, -4.8822, -4.8822, -4.8823, -4.8833, -4.8863, -4.8874, -4.9868, -5.4884, -5.4884, -5.4884, -5.4884, -5.4884, -5.4884, -5.4884, -5.4884, -5.4884, -5.4884, -5.4884, -5.4884, -5.4884, -5.4884, -5.4884, -5.4884, -5.4884, -4.4335, -4.1973, -4.506, -4.8819, -3.4853, -4.9143, -5.0007, -4.9836, -4.5082, -3.3581, -3.1013, -4.2342, -4.9664, -4.4052, -4.8814, -4.0179, -4.7902, -4.5728, -3.6816, -4.867, -4.867, -4.867, -4.867, -4.8677, -4.4912, -4.5813, -5.4732, -5.4732, -5.4732, -5.4732, -5.4732, -5.4732, -5.4732, -5.4732, -5.4732, -5.4732, -5.4732, -5.4732, -5.4732, -5.4732, -5.4732, -5.4732, -5.4732, -5.4732, -5.4732, -5.4732, -5.4732, -5.4732, -3.5685, -4.8665, -3.4337, -4.8677, -4.4895, -4.8651, -4.8667, -4.8659, -3.2644, -4.0695, -3.0751, -4.8669, -4.8654, -4.8313, -4.4909, -4.8694, -4.8661, -4.8, -5.3409, -5.3255, -5.4168, -5.4713, -3.36, -4.5139, -4.5139, -3.6939, -5.12, -5.12, -5.12, -5.12, -5.12, -5.12, -5.12, -5.12, -5.12, -5.1201, -5.1201, -5.1201, -5.1201, -5.1201, -5.1201, -5.1201, -5.1201, -5.1201, -5.1201, -5.1201, -5.1201, -5.1201, -5.1201, -5.1201, -5.1201, -5.1201, -4.1544, -4.5127, -4.513, -4.5703, -3.4783, -4.5119, -4.5285, -4.1371, -4.5086, -4.1383, -3.885, -4.5124, -4.0708, -4.9165, -4.9024, -5.1166, -5.117, -5.1171, -5.1172, -5.1175, -5.1179, -5.1179, -5.1183, -5.1185, -5.1185, -5.1188], \"loglift\": [30.0, 29.0, 28.0, 27.0, 26.0, 25.0, 24.0, 23.0, 22.0, 21.0, 20.0, 19.0, 18.0, 17.0, 16.0, 15.0, 14.0, 13.0, 12.0, 11.0, 10.0, 9.0, 8.0, 7.0, 6.0, 5.0, 4.0, 3.0, 2.0, 1.0, 1.0375, 0.97, 0.9577, 0.9577, 0.9577, 0.9576, 0.9576, 0.9576, 0.9576, 0.9576, 0.9576, 0.9576, 0.9576, 0.9576, 0.9576, 0.909, 0.9039, 0.8657, 0.8535, 0.8332, 0.8243, 0.7714, 0.7714, 0.7714, 0.7714, 0.7714, 0.7714, 0.7714, 0.7714, 0.7714, 0.7419, 0.6145, 0.6697, 0.6622, 0.4954, 0.6496, 0.6903, 0.6903, 0.5834, 0.6193, 0.318, 0.4679, 0.5225, 0.3207, -0.3077, 0.3486, 0.4893, -0.168, 0.1753, -0.7037, -0.5336, 0.2809, 0.4575, 1.1857, 1.1484, 1.1484, 1.147, 1.1372, 1.0657, 1.0657, 1.0656, 1.0656, 1.0656, 1.0656, 1.0656, 1.0656, 1.0626, 1.0622, 1.0236, 0.9626, 0.8735, 0.8735, 0.8735, 0.8735, 0.8735, 0.8735, 0.8735, 0.8735, 0.8735, 0.8735, 0.8735, 0.8735, 0.8735, 0.7583, 0.7345, 0.7341, 0.7946, 0.7402, 0.7394, 0.7834, 0.7271, 0.6012, 0.6756, 0.3134, 0.7397, 0.4314, 0.4259, 0.1193, 0.3112, -0.3644, 0.3327, -0.2554, -0.3287, -0.3306, -1.2081, -0.3197, 0.2467, 1.5756, 1.5023, 1.4593, 1.4166, 1.4166, 1.4166, 1.4165, 1.4165, 1.4165, 1.4154, 1.4123, 1.4112, 1.3092, 1.2182, 1.2182, 1.2182, 1.2182, 1.2182, 1.2182, 1.2182, 1.2182, 1.2182, 1.2182, 1.2182, 1.2182, 1.2182, 1.2182, 1.2182, 1.2182, 1.2182, 1.1588, 1.1091, 1.0794, 1.1092, 0.7875, 1.0762, 1.0166, 1.0056, 0.7882, 0.2545, 0.1044, 0.4004, 0.7886, 0.2849, 0.6908, -0.1022, 0.4978, -0.0659, 1.6677, 1.4578, 1.4578, 1.4578, 1.4578, 1.4571, 1.3029, 1.2646, 1.253, 1.253, 1.253, 1.253, 1.253, 1.253, 1.253, 1.253, 1.253, 1.253, 1.253, 1.253, 1.253, 1.253, 1.253, 1.253, 1.253, 1.253, 1.253, 1.253, 1.253, 1.253, 1.2176, 1.2008, 1.0732, 1.1997, 1.1142, 1.1644, 1.1627, 1.1539, 0.6513, 0.6596, 0.1306, 0.9196, 0.9134, 0.767, 0.3919, 0.709, 0.5509, -1.1873, -0.4649, -1.0626, -0.7821, 0.3002, 1.9429, 1.8876, 1.8876, 1.7055, 1.6628, 1.6628, 1.6628, 1.6628, 1.6628, 1.6627, 1.6627, 1.6627, 1.6627, 1.6627, 1.6627, 1.6627, 1.6627, 1.6627, 1.6627, 1.6627, 1.6627, 1.6627, 1.6627, 1.6627, 1.6627, 1.6627, 1.6627, 1.6627, 1.6627, 1.6627, 1.5103, 1.5631, 1.5629, 1.4919, 1.1003, 1.3106, 1.3086, 0.5531, 0.9664, 0.4964, 0.1658, 0.2737, -0.865, 0.9294, -0.9866, 0.4796, 0.1883, 0.0503, 0.9204, -0.2414, 0.9197, 1.2179, 0.4716, 0.9127, 0.6665, 0.9186]}, \"token.table\": {\"Topic\": [2, 3, 5, 2, 3, 1, 4, 2, 3, 2, 1, 2, 3, 1, 2, 1, 2, 4, 2, 3, 4, 2, 3, 4, 5, 3, 4, 3, 4, 4, 2, 5, 3, 5, 1, 2, 4, 4, 4, 1, 3, 5, 1, 4, 4, 2, 1, 3, 1, 4, 1, 2, 4, 3, 1, 2, 4, 5, 1, 2, 5, 4, 5, 1, 2, 4, 2, 3, 1, 4, 2, 5, 4, 1, 1, 3, 5, 2, 2, 1, 2, 3, 4, 1, 3, 3, 5, 1, 2, 1, 2, 3, 2, 1, 2, 3, 1, 2, 1, 4, 2, 3, 1, 3, 4, 5, 3, 2, 3, 3, 4, 1, 4, 1, 3, 2, 4, 1, 2, 1, 5, 4, 2, 2, 2, 4, 1, 4, 5, 1, 1, 2, 3, 1, 4, 5, 3, 2, 2, 3, 5, 5, 1, 2, 3, 5, 1, 2, 4, 1, 3, 1, 2, 5, 5, 1, 5, 2, 3, 1, 1, 2, 5, 1, 2, 3, 4, 2, 2, 3, 2, 3, 5, 4, 4, 5, 1, 2, 3, 5, 4, 5, 5, 4, 1, 2, 3, 5, 3, 1, 1, 4, 3, 2, 5, 1, 2, 1, 3, 1, 2, 4, 1, 4, 5, 5, 3, 1, 1, 2, 3, 5, 2, 1, 4, 5, 1, 4, 5, 3, 1, 1, 1, 2, 4, 4, 5, 1, 3, 1, 5, 3, 1, 2, 3, 3, 1, 4, 5, 1, 2, 4, 5, 1, 3, 5, 4, 2, 2, 5, 1, 3, 5, 1, 4, 1, 2, 3, 5, 4, 2, 4, 4, 1, 3, 1, 1, 2, 3, 1, 2, 2, 1, 2, 4, 5, 5, 2, 5, 3, 5, 5, 1, 2, 3, 4, 5, 3, 4, 2, 3, 4, 5, 2, 5, 2, 5, 1, 2, 3, 4, 4, 4, 2, 4, 5, 3, 1, 2, 3, 4, 5, 5, 1, 3, 4, 5, 2, 1, 2, 3, 4, 5, 2, 1, 2, 3, 4, 1, 1, 3, 5, 3, 2, 4, 1, 2, 3, 4, 4, 5, 1, 2, 3, 4, 2, 5, 3, 1, 1, 2, 3, 5, 1, 2, 5, 4, 4], \"Freq\": [0.36172197666624073, 0.36172197666624073, 0.36172197666624073, 0.6930674944450714, 0.9393684770211823, 0.8939946584957454, 0.9642138548838914, 0.9162622082199757, 0.7062164880040552, 0.9162576458472471, 0.23013891302287323, 0.23013891302287323, 0.46027782604574646, 0.41161285094821926, 0.5145160636852741, 0.34196315938762056, 0.34196315938762056, 0.22797543959174704, 0.6930679396508114, 0.7062163022231625, 0.7201567883326068, 0.9162565143587723, 0.7062164242511083, 0.597294504119655, 0.2986472520598275, 0.9391744104255962, 0.7201570970160173, 0.35445543685185044, 0.35445543685185044, 0.9642134654050816, 0.37582122127321643, 0.37582122127321643, 0.9393859504539628, 0.7621152194369868, 0.23439848632386165, 0.23439848632386165, 0.4687969726477233, 0.7201566335378647, 0.7201568504066137, 0.3450800944449362, 0.6901601888898724, 0.762117015272401, 0.6842893748187988, 0.3421446874093994, 0.7201569269778684, 0.9163361773521739, 0.3446246933425178, 0.3446246933425178, 0.8939948372010037, 0.964213576558775, 0.27925926246416777, 0.27925926246416777, 0.5585185249283355, 0.7062169539128715, 0.5661096585379203, 0.22644386341516812, 0.11322193170758406, 0.11322193170758406, 0.2917436698370078, 0.2917436698370078, 0.2917436698370078, 0.7201568010860305, 0.7621169396124935, 0.4514882035154505, 0.22574410175772525, 0.22574410175772525, 0.6930675393683553, 0.7062164070297934, 0.8939981992770023, 0.7201567926410689, 0.6930675050806111, 0.7621169537463841, 0.7201568193857687, 0.8940044930275953, 0.24913017221802533, 0.24913017221802533, 0.49826034443605066, 0.9163488925790992, 0.6842923667905277, 0.15654444449956742, 0.15654444449956742, 0.15654444449956742, 0.4696333334987023, 0.893996979065941, 0.7062164348704417, 0.7037067285218166, 0.7621163856955079, 0.6139721784980992, 0.40931478566539947, 0.45423103788951336, 0.22711551894475668, 0.45423103788951336, 0.9162560555966134, 0.66764600944199, 0.1669115023604975, 0.1669115023604975, 0.6819361593551282, 0.29834706971786856, 0.4570998064909014, 0.4570998064909014, 0.6906481715553231, 0.34532408577766155, 0.4121871817507674, 0.2060935908753837, 0.2060935908753837, 0.2060935908753837, 0.9370240342428993, 0.5170933014890748, 0.34472886765938326, 0.35877962603119073, 0.7175592520623815, 0.6842879281634819, 0.34214396408174097, 0.5453900105162387, 0.27269500525811935, 0.6899135641128353, 0.22997118803761177, 0.44874873943831345, 0.44874873943831345, 0.17350922065417704, 0.6940368826167082, 0.7201569760187193, 0.6930674534813963, 0.6930680326526717, 0.562767195830663, 0.562767195830663, 0.1910808785604119, 0.1910808785604119, 0.5732426356812357, 0.6802565901060272, 0.8939948236333328, 0.693067767509646, 0.7062166295809551, 0.2835575968963714, 0.5671151937927428, 0.7621157038027616, 0.9393864776362327, 0.9162552545982127, 0.23173307204078, 0.46346614408156, 0.7621156732584581, 0.7621164747078784, 0.4204440357897132, 0.16817761431588527, 0.08408880715794263, 0.33635522863177053, 0.24530319589729108, 0.6745837887175505, 0.06132579897432277, 0.6689867792093591, 0.22299559306978636, 0.15039531484819077, 0.7519765742409539, 0.7621154290873867, 0.5204781576521128, 0.37073221605666024, 0.37073221605666024, 0.6930680409675662, 0.7062164968850366, 0.8939985839169374, 0.45455890797761367, 0.3030392719850758, 0.1515196359925379, 0.8939953127406244, 0.6930674876550393, 0.3587938580644418, 0.7175877161288836, 0.9162574302745273, 0.916256250981653, 0.7062167449231064, 0.3616841168473662, 0.3616841168473662, 0.3616841168473662, 0.7201566691334254, 0.7201570186678536, 0.7621151356007164, 0.18802522700140112, 0.37605045400280224, 0.2820378405021017, 0.18802522700140112, 0.7201567769422278, 0.7621153195547067, 0.7621163159276618, 0.7201566161989716, 0.4652850855459409, 0.23264254277297045, 0.23264254277297045, 0.23264254277297045, 0.9393860676162588, 0.6802565464373873, 0.6802565810597787, 0.9641880957008692, 0.7062164504717321, 0.35942347921581386, 0.35942347921581386, 0.44655322981624423, 0.44655322981624423, 0.6657211394313377, 0.7062163581827481, 0.48877091767501457, 0.19550836707000582, 0.2932625506050087, 0.765672705804183, 0.19141817645104575, 0.7621169594941288, 0.7621158358313393, 0.706216654970345, 0.6802566902993182, 0.4954622928625467, 0.06193278660781834, 0.37159671964691005, 0.06193278660781834, 0.6930679819748219, 0.8939981183318876, 0.7453570378341261, 0.37267851891706305, 0.2960188278668529, 0.2960188278668529, 0.2960188278668529, 0.46841113227309533, 0.6802564900121089, 0.6802566290016204, 0.45428055989353205, 0.45428055989353205, 0.22714027994676603, 0.7201568641907944, 0.7621144423031387, 0.8939976597889953, 0.7062163839577983, 0.5534364074280521, 0.27671820371402606, 0.7062164227485085, 0.17094061305334873, 0.5128218391600462, 0.34188122610669747, 0.706216676835214, 0.36174552144098804, 0.36174552144098804, 0.36174552144098804, 0.10348366343165734, 0.20696732686331468, 0.620901980589944, 0.10348366343165734, 0.5380369341508073, 0.26901846707540367, 0.7621163040240218, 0.7201566717163925, 0.6930678967031615, 0.693067753425744, 0.5204780415607292, 0.8940037181110471, 0.7062163683141728, 0.7621151612727253, 0.583384127275492, 0.38892275151699474, 0.3848350539852556, 0.3848350539852556, 0.1924175269926278, 0.7621155593248096, 0.9642135028735741, 0.6971935534330065, 0.34859677671650324, 0.7201567773670337, 0.8939991292088107, 0.9393861160136112, 0.6802565884531343, 0.5420050726321465, 0.27100253631607324, 0.27100253631607324, 0.664989513068096, 0.22166317102269864, 0.6930680039472222, 0.5062037419213121, 0.33746916128087473, 0.16873458064043736, 0.7621156509482824, 0.7621169513608224, 0.8433135799222321, 0.14882004351568803, 0.7028621161236487, 0.7621156422003382, 0.7621162013821221, 0.21306771655004278, 0.34090834648006846, 0.1917609448950385, 0.1917609448950385, 0.04261354331000856, 0.9392882524234194, 0.7201568552660657, 0.44470391729832304, 0.2668223503789938, 0.08894078345966461, 0.17788156691932921, 0.6842917515301868, 0.76211543530964, 0.3758536314127748, 0.3758536314127748, 0.2772147550613911, 0.2772147550613911, 0.2772147550613911, 0.2772147550613911, 0.7201569285248688, 0.7201568983714228, 0.4662423037198158, 0.4662423037198158, 0.7621165537837221, 0.7062167156122859, 0.39004336830649144, 0.08667630406810921, 0.17335260813621842, 0.3033670642383822, 0.043338152034054604, 0.7621162380373822, 0.3452967669578984, 0.6905935339157968, 0.7453016135229266, 0.3726508067614633, 0.9162554816291444, 0.20171384552504573, 0.40342769105009146, 0.20171384552504573, 0.20171384552504573, 0.20171384552504573, 0.6843234399760825, 0.22712261926397675, 0.4542452385279535, 0.22712261926397675, 0.7201568063973204, 0.6802564805695421, 0.5619838671335298, 0.2809919335667649, 0.2809919335667649, 0.939386212942977, 0.35536894706825695, 0.7107378941365139, 0.5441389131305824, 0.19204902816373498, 0.2240571995243575, 0.064016342721245, 0.7201569507038247, 0.7621161401790209, 0.17411846751041835, 0.17411846751041835, 0.5223554025312551, 0.17411846751041835, 0.4874068598913329, 0.4874068598913329, 0.9393874141228719, 0.8939987583092592, 0.17392325235975195, 0.5217697570792559, 0.17392325235975195, 0.17392325235975195, 0.46234205937234346, 0.46234205937234346, 0.23117102968617173, 0.9086935239337248, 0.7201568147941084], \"Term\": [\"able\", \"able\", \"able\", \"accenture\", \"access\", \"ad\", \"adjacent\", \"advance\", \"agile\", \"alot\", \"amazing\", \"amazing\", \"amazing\", \"analyst\", \"analyst\", \"analytic\", \"analytic\", \"analytic\", \"apple\", \"approach\", \"area\", \"aspect\", \"aspirant\", \"available\", \"available\", \"awesome\", \"bachelor\", \"background\", \"background\", \"bar\", \"basic\", \"basic\", \"bhi\", \"bhot\", \"bi\", \"bi\", \"bi\", \"bnao\", \"boot\", \"brother\", \"brother\", \"budget\", \"business\", \"business\", \"camp\", \"career\", \"case\", \"case\", \"cash\", \"cell\", \"channel\", \"channel\", \"channel\", \"clarity\", \"class\", \"class\", \"class\", \"class\", \"clear\", \"clear\", \"clear\", \"coating\", \"college\", \"column\", \"column\", \"column\", \"comment\", \"communication\", \"community\", \"concept\", \"condition\", \"confidence\", \"confident\", \"congratulation\", \"content\", \"content\", \"content\", \"contest\", \"country\", \"course\", \"course\", \"course\", \"course\", \"creation\", \"critical\", \"crore\", \"cup\", \"dashboard\", \"dashboard\", \"data\", \"data\", \"data\", \"database\", \"dataset\", \"dataset\", \"dataset\", \"datum\", \"datum\", \"day\", \"day\", \"dear\", \"dear\", \"description\", \"description\", \"description\", \"description\", \"detailed\", \"developer\", \"developer\", \"difference\", \"difference\", \"different\", \"different\", \"easy\", \"easy\", \"end\", \"end\", \"experience\", \"experience\", \"explanation\", \"explanation\", \"export\", \"family\", \"father\", \"field\", \"field\", \"file\", \"file\", \"file\", \"financial\", \"flow\", \"focused\", \"follow\", \"free\", \"free\", \"fresh\", \"friend\", \"front\", \"full\", \"full\", \"game\", \"geep\", \"good\", \"good\", \"good\", \"good\", \"great\", \"great\", \"great\", \"help\", \"help\", \"helpful\", \"helpful\", \"high\", \"hku\", \"hope\", \"hope\", \"huge\", \"improvement\", \"information\", \"informative\", \"informative\", \"informative\", \"insight\", \"instruction\", \"interested\", \"interested\", \"interesting\", \"intermediate\", \"international\", \"interview\", \"interview\", \"interview\", \"isse\", \"issue\", \"janeman\", \"job\", \"job\", \"job\", \"job\", \"journey\", \"jupyter\", \"keep\", \"kie\", \"knowledge\", \"knowledge\", \"knowledge\", \"knowledge\", \"length\", \"lengthy\", \"less\", \"lesson\", \"letter\", \"level\", \"level\", \"live\", \"live\", \"long\", \"look\", \"lot\", \"lot\", \"lot\", \"love\", \"love\", \"low\", \"magic\", \"mannerthank\", \"membersyour\", \"much\", \"much\", \"much\", \"much\", \"name\", \"nd\", \"new\", \"new\", \"nice\", \"nice\", \"nice\", \"nontech\", \"note\", \"numerous\", \"opportunity\", \"opportunity\", \"opportunity\", \"organizational\", \"p\", \"page\", \"pain\", \"part\", \"part\", \"pathway\", \"people\", \"people\", \"people\", \"person\", \"possible\", \"possible\", \"possible\", \"power\", \"power\", \"power\", \"power\", \"powerbi\", \"powerbi\", \"precise\", \"predictive\", \"preferred\", \"price\", \"private\", \"problem\", \"process\", \"programmer\", \"project\", \"project\", \"question\", \"question\", \"question\", \"remote\", \"report\", \"request\", \"request\", \"resoruce\", \"respect\", \"resume\", \"revenue\", \"role\", \"role\", \"role\", \"satyajit\", \"satyajit\", \"scale\", \"science\", \"science\", \"science\", \"scope\", \"senior\", \"session\", \"session\", \"simple\", \"simultaneous\", \"single\", \"sir\", \"sir\", \"sir\", \"sir\", \"sir\", \"slide\", \"solve\", \"sql\", \"sql\", \"sql\", \"sql\", \"stock\", \"strategy\", \"study\", \"study\", \"submission\", \"submission\", \"submission\", \"submission\", \"sugar\", \"synapse\", \"table\", \"table\", \"tea\", \"tech\", \"thank\", \"thank\", \"thank\", \"thank\", \"thank\", \"thati\", \"thing\", \"thing\", \"time\", \"time\", \"top\", \"topic\", \"topic\", \"topic\", \"topic\", \"topic\", \"transition\", \"u\", \"u\", \"u\", \"udemy\", \"understanding\", \"valuable\", \"valuable\", \"valuable\", \"varchar\", \"vedio\", \"vedio\", \"video\", \"video\", \"video\", \"video\", \"visible\", \"walkthrough\", \"way\", \"way\", \"way\", \"way\", \"week\", \"week\", \"well\", \"word\", \"work\", \"work\", \"work\", \"work\", \"year\", \"year\", \"year\", \"youtube\", \"ytber\"]}, \"R\": 30, \"lambda.step\": 0.01, \"plot.opts\": {\"xlab\": \"PC1\", \"ylab\": \"PC2\"}, \"topic.order\": [1, 2, 5, 4, 3]};\n",
       "\n",
       "function LDAvis_load_lib(url, callback){\n",
       "  var s = document.createElement('script');\n",
       "  s.src = url;\n",
       "  s.async = true;\n",
       "  s.onreadystatechange = s.onload = callback;\n",
       "  s.onerror = function(){console.warn(\"failed to load library \" + url);};\n",
       "  document.getElementsByTagName(\"head\")[0].appendChild(s);\n",
       "}\n",
       "\n",
       "if(typeof(LDAvis) !== \"undefined\"){\n",
       "   // already loaded: just create the visualization\n",
       "   !function(LDAvis){\n",
       "       new LDAvis(\"#\" + \"ldavis_el163802469638304032471250140\", ldavis_el163802469638304032471250140_data);\n",
       "   }(LDAvis);\n",
       "}else if(typeof define === \"function\" && define.amd){\n",
       "   // require.js is available: use it to load d3/LDAvis\n",
       "   require.config({paths: {d3: \"https://d3js.org/d3.v5\"}});\n",
       "   require([\"d3\"], function(d3){\n",
       "      window.d3 = d3;\n",
       "      LDAvis_load_lib(\"https://cdn.jsdelivr.net/gh/bmabey/pyLDAvis@3.3.1/pyLDAvis/js/ldavis.v3.0.0.js\", function(){\n",
       "        new LDAvis(\"#\" + \"ldavis_el163802469638304032471250140\", ldavis_el163802469638304032471250140_data);\n",
       "      });\n",
       "    });\n",
       "}else{\n",
       "    // require.js not available: dynamically load d3 & LDAvis\n",
       "    LDAvis_load_lib(\"https://d3js.org/d3.v5.js\", function(){\n",
       "         LDAvis_load_lib(\"https://cdn.jsdelivr.net/gh/bmabey/pyLDAvis@3.3.1/pyLDAvis/js/ldavis.v3.0.0.js\", function(){\n",
       "                 new LDAvis(\"#\" + \"ldavis_el163802469638304032471250140\", ldavis_el163802469638304032471250140_data);\n",
       "            })\n",
       "         });\n",
       "}\n",
       "</script>"
      ],
      "text/plain": [
       "PreparedData(topic_coordinates=              x         y  topics  cluster       Freq\n",
       "topic                                                \n",
       "0      0.076633 -0.070076       1        1  28.951004\n",
       "1      0.096913  0.064474       2        1  25.690624\n",
       "4     -0.016430 -0.084482       3        1  17.870631\n",
       "3     -0.119265 -0.014044       4        1  16.924472\n",
       "2     -0.037850  0.104129       5        1  10.563269, topic_info=            Term       Freq      Total Category  logprob  loglift\n",
       "8        session  20.000000  20.000000  Default  30.0000  30.0000\n",
       "30         datum  23.000000  23.000000  Default  29.0000  29.0000\n",
       "173  explanation   5.000000   5.000000  Default  28.0000  28.0000\n",
       "21          good  11.000000  11.000000  Default  27.0000  27.0000\n",
       "40       youtube   5.000000   5.000000  Default  26.0000  26.0000\n",
       "..           ...        ...        ...      ...      ...      ...\n",
       "46          week   0.732513   2.051674   Topic5  -5.1179   1.2179\n",
       "123         year   0.732276   4.325802   Topic5  -5.1183   0.4716\n",
       "113        level   0.732106   2.782233   Topic5  -5.1185   0.9127\n",
       "295     valuable   0.732065   3.558821   Topic5  -5.1185   0.6665\n",
       "48     interview   0.731847   2.764844   Topic5  -5.1188   0.9186\n",
       "\n",
       "[293 rows x 6 columns], token_table=      Topic      Freq       Term\n",
       "term                            \n",
       "137       2  0.361722       able\n",
       "137       3  0.361722       able\n",
       "137       5  0.361722       able\n",
       "345       2  0.693067  accenture\n",
       "289       3  0.939368     access\n",
       "...     ...       ...        ...\n",
       "123       1  0.462342       year\n",
       "123       2  0.462342       year\n",
       "123       5  0.231171       year\n",
       "40        4  0.908694    youtube\n",
       "409       4  0.720157      ytber\n",
       "\n",
       "[358 rows x 3 columns], R=30, lambda_step=0.01, plot_opts={'xlab': 'PC1', 'ylab': 'PC2'}, topic_order=[1, 2, 5, 4, 3])"
      ]
     },
     "execution_count": 123,
     "metadata": {},
     "output_type": "execute_result"
    }
   ],
   "source": [
    "import pyLDAvis\n",
    "from pyLDAvis import gensim_models\n",
    "\n",
    "pyLDAvis.enable_notebook()\n",
    "visuals = gensim_models.prepare(lda_model, doc_term_matrix, dictionary)\n",
    "visuals"
   ]
  },
  {
   "cell_type": "markdown",
   "id": "2870cf11",
   "metadata": {},
   "source": [
    "Let's visualize the most frequent words using wordcloud."
   ]
  },
  {
   "cell_type": "code",
   "execution_count": 124,
   "id": "d3068851",
   "metadata": {},
   "outputs": [
    {
     "data": {
      "image/png": "[encoded data removed]",
      "text/plain": [
       "<PIL.Image.Image image mode=RGB size=400x200 at 0x23F00752730>"
      ]
     },
     "execution_count": 124,
     "metadata": {},
     "output_type": "execute_result"
    }
   ],
   "source": [
    "from wordcloud import WordCloud\n",
    "\n",
    "wordcloud = WordCloud(background_color='white', max_words=5000, contour_width=5, contour_color='steelblue')\n",
    "wordcloud.generate(' '.join(comments_df['Comment']))\n",
    "wordcloud.to_image() "
   ]
  },
  {
   "cell_type": "code",
   "execution_count": null,
   "id": "dbcfb060",
   "metadata": {},
   "outputs": [],
   "source": []
  }
 ],
 "metadata": {
  "kernelspec": {
   "display_name": "Python 3 (ipykernel)",
   "language": "python",
   "name": "python3"
  },
  "language_info": {
   "codemirror_mode": {
    "name": "ipython",
    "version": 3
   },
   "file_extension": ".py",
   "mimetype": "text/x-python",
   "name": "python",
   "nbconvert_exporter": "python",
   "pygments_lexer": "ipython3",
   "version": "3.8.0"
  }
 },
 "nbformat": 4,
 "nbformat_minor": 5
}
